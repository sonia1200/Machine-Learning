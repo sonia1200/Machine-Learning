{
 "cells": [
  {
   "cell_type": "markdown",
   "id": "2766590e",
   "metadata": {},
   "source": [
    "## Importing Libraries:"
   ]
  },
  {
   "cell_type": "code",
   "execution_count": 1,
   "id": "cd43bd41",
   "metadata": {},
   "outputs": [],
   "source": [
    "import numpy as np\n",
    "import pandas as pd\n",
    "import seaborn as sns\n",
    "import matplotlib.pyplot as plt"
   ]
  },
  {
   "cell_type": "markdown",
   "id": "0296afb2",
   "metadata": {},
   "source": [
    "## Loading Dataset:"
   ]
  },
  {
   "cell_type": "code",
   "execution_count": 2,
   "id": "03e72a95",
   "metadata": {},
   "outputs": [],
   "source": [
    "df=pd.read_csv('sydney_rain prediction(interview dataset).csv' , header=0)"
   ]
  },
  {
   "cell_type": "code",
   "execution_count": 3,
   "id": "3c7c43d7",
   "metadata": {},
   "outputs": [
    {
     "data": {
      "text/html": [
       "<div>\n",
       "<style scoped>\n",
       "    .dataframe tbody tr th:only-of-type {\n",
       "        vertical-align: middle;\n",
       "    }\n",
       "\n",
       "    .dataframe tbody tr th {\n",
       "        vertical-align: top;\n",
       "    }\n",
       "\n",
       "    .dataframe thead th {\n",
       "        text-align: right;\n",
       "    }\n",
       "</style>\n",
       "<table border=\"1\" class=\"dataframe\">\n",
       "  <thead>\n",
       "    <tr style=\"text-align: right;\">\n",
       "      <th></th>\n",
       "      <th>Date</th>\n",
       "      <th>Location</th>\n",
       "      <th>MinTemp</th>\n",
       "      <th>MaxTemp</th>\n",
       "      <th>Rainfall</th>\n",
       "      <th>Evaporation</th>\n",
       "      <th>Sunshine</th>\n",
       "      <th>Humidity9am</th>\n",
       "      <th>Humidity3pm</th>\n",
       "      <th>Pressure9am</th>\n",
       "      <th>Pressure3pm</th>\n",
       "      <th>Cloud9am</th>\n",
       "      <th>Cloud3pm</th>\n",
       "      <th>Temp9am</th>\n",
       "      <th>Temp3pm</th>\n",
       "      <th>RainToday</th>\n",
       "      <th>RainTomorrow</th>\n",
       "    </tr>\n",
       "  </thead>\n",
       "  <tbody>\n",
       "    <tr>\n",
       "      <th>0</th>\n",
       "      <td>01-02-2008</td>\n",
       "      <td>Sydney</td>\n",
       "      <td>19.5</td>\n",
       "      <td>22.4</td>\n",
       "      <td>15.6</td>\n",
       "      <td>6.2</td>\n",
       "      <td>0.0</td>\n",
       "      <td>92.0</td>\n",
       "      <td>84.0</td>\n",
       "      <td>1017.6</td>\n",
       "      <td>1017.4</td>\n",
       "      <td>8.0</td>\n",
       "      <td>8.0</td>\n",
       "      <td>20.7</td>\n",
       "      <td>20.9</td>\n",
       "      <td>Yes</td>\n",
       "      <td>Yes</td>\n",
       "    </tr>\n",
       "    <tr>\n",
       "      <th>1</th>\n",
       "      <td>02-02-2008</td>\n",
       "      <td>Sydney</td>\n",
       "      <td>19.5</td>\n",
       "      <td>25.6</td>\n",
       "      <td>6.0</td>\n",
       "      <td>3.4</td>\n",
       "      <td>2.7</td>\n",
       "      <td>83.0</td>\n",
       "      <td>73.0</td>\n",
       "      <td>1017.9</td>\n",
       "      <td>1016.4</td>\n",
       "      <td>7.0</td>\n",
       "      <td>7.0</td>\n",
       "      <td>22.4</td>\n",
       "      <td>24.8</td>\n",
       "      <td>Yes</td>\n",
       "      <td>Yes</td>\n",
       "    </tr>\n",
       "    <tr>\n",
       "      <th>2</th>\n",
       "      <td>03-02-2008</td>\n",
       "      <td>Sydney</td>\n",
       "      <td>21.6</td>\n",
       "      <td>24.5</td>\n",
       "      <td>6.6</td>\n",
       "      <td>2.4</td>\n",
       "      <td>0.1</td>\n",
       "      <td>88.0</td>\n",
       "      <td>86.0</td>\n",
       "      <td>1016.7</td>\n",
       "      <td>1015.6</td>\n",
       "      <td>7.0</td>\n",
       "      <td>8.0</td>\n",
       "      <td>23.5</td>\n",
       "      <td>23.0</td>\n",
       "      <td>Yes</td>\n",
       "      <td>Yes</td>\n",
       "    </tr>\n",
       "    <tr>\n",
       "      <th>3</th>\n",
       "      <td>04-02-2008</td>\n",
       "      <td>Sydney</td>\n",
       "      <td>20.2</td>\n",
       "      <td>22.8</td>\n",
       "      <td>18.8</td>\n",
       "      <td>2.2</td>\n",
       "      <td>0.0</td>\n",
       "      <td>83.0</td>\n",
       "      <td>90.0</td>\n",
       "      <td>1014.2</td>\n",
       "      <td>1011.8</td>\n",
       "      <td>8.0</td>\n",
       "      <td>8.0</td>\n",
       "      <td>21.4</td>\n",
       "      <td>20.9</td>\n",
       "      <td>Yes</td>\n",
       "      <td>Yes</td>\n",
       "    </tr>\n",
       "    <tr>\n",
       "      <th>4</th>\n",
       "      <td>05-02-2008</td>\n",
       "      <td>Sydney</td>\n",
       "      <td>19.7</td>\n",
       "      <td>25.7</td>\n",
       "      <td>77.4</td>\n",
       "      <td>NaN</td>\n",
       "      <td>0.0</td>\n",
       "      <td>88.0</td>\n",
       "      <td>74.0</td>\n",
       "      <td>1008.3</td>\n",
       "      <td>1004.8</td>\n",
       "      <td>8.0</td>\n",
       "      <td>8.0</td>\n",
       "      <td>22.5</td>\n",
       "      <td>25.5</td>\n",
       "      <td>Yes</td>\n",
       "      <td>Yes</td>\n",
       "    </tr>\n",
       "  </tbody>\n",
       "</table>\n",
       "</div>"
      ],
      "text/plain": [
       "         Date Location  MinTemp  MaxTemp  Rainfall  Evaporation  Sunshine  \\\n",
       "0  01-02-2008   Sydney     19.5     22.4      15.6          6.2       0.0   \n",
       "1  02-02-2008   Sydney     19.5     25.6       6.0          3.4       2.7   \n",
       "2  03-02-2008   Sydney     21.6     24.5       6.6          2.4       0.1   \n",
       "3  04-02-2008   Sydney     20.2     22.8      18.8          2.2       0.0   \n",
       "4  05-02-2008   Sydney     19.7     25.7      77.4          NaN       0.0   \n",
       "\n",
       "   Humidity9am  Humidity3pm  Pressure9am  Pressure3pm  Cloud9am  Cloud3pm  \\\n",
       "0         92.0         84.0       1017.6       1017.4       8.0       8.0   \n",
       "1         83.0         73.0       1017.9       1016.4       7.0       7.0   \n",
       "2         88.0         86.0       1016.7       1015.6       7.0       8.0   \n",
       "3         83.0         90.0       1014.2       1011.8       8.0       8.0   \n",
       "4         88.0         74.0       1008.3       1004.8       8.0       8.0   \n",
       "\n",
       "   Temp9am  Temp3pm RainToday RainTomorrow  \n",
       "0     20.7     20.9       Yes          Yes  \n",
       "1     22.4     24.8       Yes          Yes  \n",
       "2     23.5     23.0       Yes          Yes  \n",
       "3     21.4     20.9       Yes          Yes  \n",
       "4     22.5     25.5       Yes          Yes  "
      ]
     },
     "execution_count": 3,
     "metadata": {},
     "output_type": "execute_result"
    }
   ],
   "source": [
    "## viewing some rows\n",
    "df.head()"
   ]
  },
  {
   "cell_type": "markdown",
   "id": "2513abbd",
   "metadata": {},
   "source": [
    "## Finding missing values:"
   ]
  },
  {
   "cell_type": "code",
   "execution_count": 4,
   "id": "d20f4279",
   "metadata": {},
   "outputs": [
    {
     "name": "stdout",
     "output_type": "stream",
     "text": [
      "<class 'pandas.core.frame.DataFrame'>\n",
      "RangeIndex: 3337 entries, 0 to 3336\n",
      "Data columns (total 17 columns):\n",
      " #   Column        Non-Null Count  Dtype  \n",
      "---  ------        --------------  -----  \n",
      " 0   Date          3337 non-null   object \n",
      " 1   Location      3337 non-null   object \n",
      " 2   MinTemp       3334 non-null   float64\n",
      " 3   MaxTemp       3335 non-null   float64\n",
      " 4   Rainfall      3331 non-null   float64\n",
      " 5   Evaporation   3286 non-null   float64\n",
      " 6   Sunshine      3321 non-null   float64\n",
      " 7   Humidity9am   3323 non-null   float64\n",
      " 8   Humidity3pm   3324 non-null   float64\n",
      " 9   Pressure9am   3317 non-null   float64\n",
      " 10  Pressure3pm   3318 non-null   float64\n",
      " 11  Cloud9am      2771 non-null   float64\n",
      " 12  Cloud3pm      2776 non-null   float64\n",
      " 13  Temp9am       3333 non-null   float64\n",
      " 14  Temp3pm       3333 non-null   float64\n",
      " 15  RainToday     3331 non-null   object \n",
      " 16  RainTomorrow  3337 non-null   object \n",
      "dtypes: float64(13), object(4)\n",
      "memory usage: 443.3+ KB\n"
     ]
    }
   ],
   "source": [
    "df.info()"
   ]
  },
  {
   "cell_type": "code",
   "execution_count": 5,
   "id": "2ca4febc",
   "metadata": {},
   "outputs": [
    {
     "data": {
      "text/plain": [
       "Date              0\n",
       "Location          0\n",
       "MinTemp           3\n",
       "MaxTemp           2\n",
       "Rainfall          6\n",
       "Evaporation      51\n",
       "Sunshine         16\n",
       "Humidity9am      14\n",
       "Humidity3pm      13\n",
       "Pressure9am      20\n",
       "Pressure3pm      19\n",
       "Cloud9am        566\n",
       "Cloud3pm        561\n",
       "Temp9am           4\n",
       "Temp3pm           4\n",
       "RainToday         6\n",
       "RainTomorrow      0\n",
       "dtype: int64"
      ]
     },
     "execution_count": 5,
     "metadata": {},
     "output_type": "execute_result"
    }
   ],
   "source": [
    "df.isnull().sum()"
   ]
  },
  {
   "cell_type": "markdown",
   "id": "1faff3fa",
   "metadata": {},
   "source": [
    "## Imputing Missing Values:"
   ]
  },
  {
   "cell_type": "code",
   "execution_count": 6,
   "id": "20396f25",
   "metadata": {},
   "outputs": [],
   "source": [
    "df.MaxTemp=df.MaxTemp.fillna(df.MaxTemp.mean())"
   ]
  },
  {
   "cell_type": "code",
   "execution_count": 7,
   "id": "eca385b7",
   "metadata": {},
   "outputs": [],
   "source": [
    "df.MinTemp=df.MinTemp.fillna(df.MinTemp.mean())"
   ]
  },
  {
   "cell_type": "code",
   "execution_count": 8,
   "id": "a9a8b662",
   "metadata": {},
   "outputs": [],
   "source": [
    "df.Rainfall=df.Rainfall.fillna(df.Rainfall.mean())"
   ]
  },
  {
   "cell_type": "code",
   "execution_count": 9,
   "id": "1a61fd75",
   "metadata": {},
   "outputs": [],
   "source": [
    "df.Evaporation=df.Evaporation.fillna(df.Evaporation.mean())"
   ]
  },
  {
   "cell_type": "code",
   "execution_count": 10,
   "id": "eeddcf58",
   "metadata": {},
   "outputs": [],
   "source": [
    "df.Sunshine=df.Sunshine.fillna(df.Sunshine.mean())"
   ]
  },
  {
   "cell_type": "code",
   "execution_count": 11,
   "id": "3807bd64",
   "metadata": {},
   "outputs": [],
   "source": [
    "df.Pressure9am=df.Pressure9am.fillna(df.Pressure9am.mean())"
   ]
  },
  {
   "cell_type": "code",
   "execution_count": 12,
   "id": "bdc554b8",
   "metadata": {},
   "outputs": [],
   "source": [
    "df.Pressure3pm=df.Pressure3pm.fillna(df.Pressure3pm.mean())"
   ]
  },
  {
   "cell_type": "code",
   "execution_count": 13,
   "id": "face8d13",
   "metadata": {},
   "outputs": [],
   "source": [
    "df.Temp9am=df.Temp9am.fillna(df.Temp9am.mean())"
   ]
  },
  {
   "cell_type": "code",
   "execution_count": 14,
   "id": "0b31eacf",
   "metadata": {},
   "outputs": [],
   "source": [
    "df.Temp3pm=df.Temp3pm.fillna(df.Temp9am.mean())"
   ]
  },
  {
   "cell_type": "code",
   "execution_count": 15,
   "id": "1d6dd13b",
   "metadata": {},
   "outputs": [],
   "source": [
    "df.Cloud9am=df.Cloud9am.fillna(df.Cloud9am.mean())"
   ]
  },
  {
   "cell_type": "code",
   "execution_count": 16,
   "id": "13037f5a",
   "metadata": {},
   "outputs": [],
   "source": [
    "df.Cloud3pm = df.Cloud3pm.fillna(df.Cloud3pm.mean())"
   ]
  },
  {
   "cell_type": "code",
   "execution_count": 17,
   "id": "60a054d0",
   "metadata": {},
   "outputs": [],
   "source": [
    "df.Humidity9am = df.Humidity9am.fillna(df.Humidity9am.mean())"
   ]
  },
  {
   "cell_type": "code",
   "execution_count": 18,
   "id": "248b6e52",
   "metadata": {},
   "outputs": [],
   "source": [
    "df.Humidity3pm = df.Humidity3pm.fillna(df.Humidity3pm.mean())"
   ]
  },
  {
   "cell_type": "markdown",
   "id": "2f4609a8",
   "metadata": {},
   "source": [
    "## After imputing, check whether there is any null or not:"
   ]
  },
  {
   "cell_type": "code",
   "execution_count": 19,
   "id": "f0556f2c",
   "metadata": {},
   "outputs": [
    {
     "data": {
      "text/plain": [
       "Date            0\n",
       "Location        0\n",
       "MinTemp         0\n",
       "MaxTemp         0\n",
       "Rainfall        0\n",
       "Evaporation     0\n",
       "Sunshine        0\n",
       "Humidity9am     0\n",
       "Humidity3pm     0\n",
       "Pressure9am     0\n",
       "Pressure3pm     0\n",
       "Cloud9am        0\n",
       "Cloud3pm        0\n",
       "Temp9am         0\n",
       "Temp3pm         0\n",
       "RainToday       6\n",
       "RainTomorrow    0\n",
       "dtype: int64"
      ]
     },
     "execution_count": 19,
     "metadata": {},
     "output_type": "execute_result"
    }
   ],
   "source": [
    "df.isnull().sum()"
   ]
  },
  {
   "cell_type": "code",
   "execution_count": 20,
   "id": "972ccd1d",
   "metadata": {},
   "outputs": [
    {
     "name": "stdout",
     "output_type": "stream",
     "text": [
      "<class 'pandas.core.frame.DataFrame'>\n",
      "RangeIndex: 3337 entries, 0 to 3336\n",
      "Data columns (total 17 columns):\n",
      " #   Column        Non-Null Count  Dtype  \n",
      "---  ------        --------------  -----  \n",
      " 0   Date          3337 non-null   object \n",
      " 1   Location      3337 non-null   object \n",
      " 2   MinTemp       3337 non-null   float64\n",
      " 3   MaxTemp       3337 non-null   float64\n",
      " 4   Rainfall      3337 non-null   float64\n",
      " 5   Evaporation   3337 non-null   float64\n",
      " 6   Sunshine      3337 non-null   float64\n",
      " 7   Humidity9am   3337 non-null   float64\n",
      " 8   Humidity3pm   3337 non-null   float64\n",
      " 9   Pressure9am   3337 non-null   float64\n",
      " 10  Pressure3pm   3337 non-null   float64\n",
      " 11  Cloud9am      3337 non-null   float64\n",
      " 12  Cloud3pm      3337 non-null   float64\n",
      " 13  Temp9am       3337 non-null   float64\n",
      " 14  Temp3pm       3337 non-null   float64\n",
      " 15  RainToday     3331 non-null   object \n",
      " 16  RainTomorrow  3337 non-null   object \n",
      "dtypes: float64(13), object(4)\n",
      "memory usage: 443.3+ KB\n"
     ]
    }
   ],
   "source": [
    "df.info()"
   ]
  },
  {
   "cell_type": "markdown",
   "id": "38d74665",
   "metadata": {},
   "source": [
    "## Statistics value for numerical column."
   ]
  },
  {
   "cell_type": "code",
   "execution_count": 21,
   "id": "24939c71",
   "metadata": {},
   "outputs": [
    {
     "data": {
      "text/html": [
       "<div>\n",
       "<style scoped>\n",
       "    .dataframe tbody tr th:only-of-type {\n",
       "        vertical-align: middle;\n",
       "    }\n",
       "\n",
       "    .dataframe tbody tr th {\n",
       "        vertical-align: top;\n",
       "    }\n",
       "\n",
       "    .dataframe thead th {\n",
       "        text-align: right;\n",
       "    }\n",
       "</style>\n",
       "<table border=\"1\" class=\"dataframe\">\n",
       "  <thead>\n",
       "    <tr style=\"text-align: right;\">\n",
       "      <th></th>\n",
       "      <th>MinTemp</th>\n",
       "      <th>MaxTemp</th>\n",
       "      <th>Rainfall</th>\n",
       "      <th>Evaporation</th>\n",
       "      <th>Sunshine</th>\n",
       "      <th>Humidity9am</th>\n",
       "      <th>Humidity3pm</th>\n",
       "      <th>Pressure9am</th>\n",
       "      <th>Pressure3pm</th>\n",
       "      <th>Cloud9am</th>\n",
       "      <th>Cloud3pm</th>\n",
       "      <th>Temp9am</th>\n",
       "      <th>Temp3pm</th>\n",
       "    </tr>\n",
       "  </thead>\n",
       "  <tbody>\n",
       "    <tr>\n",
       "      <th>count</th>\n",
       "      <td>3337.000000</td>\n",
       "      <td>3337.000000</td>\n",
       "      <td>3337.000000</td>\n",
       "      <td>3337.000000</td>\n",
       "      <td>3337.000000</td>\n",
       "      <td>3337.000000</td>\n",
       "      <td>3337.000000</td>\n",
       "      <td>3337.000000</td>\n",
       "      <td>3337.000000</td>\n",
       "      <td>3337.000000</td>\n",
       "      <td>3337.000000</td>\n",
       "      <td>3337.000000</td>\n",
       "      <td>3337.000000</td>\n",
       "    </tr>\n",
       "    <tr>\n",
       "      <th>mean</th>\n",
       "      <td>14.865057</td>\n",
       "      <td>23.002339</td>\n",
       "      <td>3.330231</td>\n",
       "      <td>5.187432</td>\n",
       "      <td>7.179374</td>\n",
       "      <td>68.229010</td>\n",
       "      <td>54.699158</td>\n",
       "      <td>1018.346156</td>\n",
       "      <td>1016.018774</td>\n",
       "      <td>4.181523</td>\n",
       "      <td>4.218660</td>\n",
       "      <td>17.819742</td>\n",
       "      <td>21.528882</td>\n",
       "    </tr>\n",
       "    <tr>\n",
       "      <th>std</th>\n",
       "      <td>4.551593</td>\n",
       "      <td>4.493290</td>\n",
       "      <td>9.886270</td>\n",
       "      <td>2.756095</td>\n",
       "      <td>3.801737</td>\n",
       "      <td>15.053668</td>\n",
       "      <td>16.261752</td>\n",
       "      <td>7.000492</td>\n",
       "      <td>7.012157</td>\n",
       "      <td>2.505491</td>\n",
       "      <td>2.409531</td>\n",
       "      <td>4.894240</td>\n",
       "      <td>4.303075</td>\n",
       "    </tr>\n",
       "    <tr>\n",
       "      <th>min</th>\n",
       "      <td>4.300000</td>\n",
       "      <td>11.700000</td>\n",
       "      <td>0.000000</td>\n",
       "      <td>0.000000</td>\n",
       "      <td>0.000000</td>\n",
       "      <td>19.000000</td>\n",
       "      <td>10.000000</td>\n",
       "      <td>986.700000</td>\n",
       "      <td>989.800000</td>\n",
       "      <td>0.000000</td>\n",
       "      <td>0.000000</td>\n",
       "      <td>6.400000</td>\n",
       "      <td>10.200000</td>\n",
       "    </tr>\n",
       "    <tr>\n",
       "      <th>25%</th>\n",
       "      <td>11.000000</td>\n",
       "      <td>19.600000</td>\n",
       "      <td>0.000000</td>\n",
       "      <td>3.200000</td>\n",
       "      <td>4.300000</td>\n",
       "      <td>58.000000</td>\n",
       "      <td>44.000000</td>\n",
       "      <td>1013.800000</td>\n",
       "      <td>1011.300000</td>\n",
       "      <td>2.000000</td>\n",
       "      <td>2.000000</td>\n",
       "      <td>13.800000</td>\n",
       "      <td>18.400000</td>\n",
       "    </tr>\n",
       "    <tr>\n",
       "      <th>50%</th>\n",
       "      <td>14.900000</td>\n",
       "      <td>22.800000</td>\n",
       "      <td>0.000000</td>\n",
       "      <td>4.800000</td>\n",
       "      <td>8.200000</td>\n",
       "      <td>69.000000</td>\n",
       "      <td>56.000000</td>\n",
       "      <td>1018.500000</td>\n",
       "      <td>1016.300000</td>\n",
       "      <td>4.181523</td>\n",
       "      <td>4.218660</td>\n",
       "      <td>18.200000</td>\n",
       "      <td>21.300000</td>\n",
       "    </tr>\n",
       "    <tr>\n",
       "      <th>75%</th>\n",
       "      <td>18.700000</td>\n",
       "      <td>26.000000</td>\n",
       "      <td>1.400000</td>\n",
       "      <td>7.000000</td>\n",
       "      <td>10.200000</td>\n",
       "      <td>80.000000</td>\n",
       "      <td>64.000000</td>\n",
       "      <td>1023.100000</td>\n",
       "      <td>1020.800000</td>\n",
       "      <td>7.000000</td>\n",
       "      <td>7.000000</td>\n",
       "      <td>21.700000</td>\n",
       "      <td>24.500000</td>\n",
       "    </tr>\n",
       "    <tr>\n",
       "      <th>max</th>\n",
       "      <td>27.600000</td>\n",
       "      <td>45.800000</td>\n",
       "      <td>119.400000</td>\n",
       "      <td>18.400000</td>\n",
       "      <td>13.600000</td>\n",
       "      <td>100.000000</td>\n",
       "      <td>99.000000</td>\n",
       "      <td>1039.000000</td>\n",
       "      <td>1036.700000</td>\n",
       "      <td>9.000000</td>\n",
       "      <td>8.000000</td>\n",
       "      <td>36.500000</td>\n",
       "      <td>44.700000</td>\n",
       "    </tr>\n",
       "  </tbody>\n",
       "</table>\n",
       "</div>"
      ],
      "text/plain": [
       "           MinTemp      MaxTemp     Rainfall  Evaporation     Sunshine  \\\n",
       "count  3337.000000  3337.000000  3337.000000  3337.000000  3337.000000   \n",
       "mean     14.865057    23.002339     3.330231     5.187432     7.179374   \n",
       "std       4.551593     4.493290     9.886270     2.756095     3.801737   \n",
       "min       4.300000    11.700000     0.000000     0.000000     0.000000   \n",
       "25%      11.000000    19.600000     0.000000     3.200000     4.300000   \n",
       "50%      14.900000    22.800000     0.000000     4.800000     8.200000   \n",
       "75%      18.700000    26.000000     1.400000     7.000000    10.200000   \n",
       "max      27.600000    45.800000   119.400000    18.400000    13.600000   \n",
       "\n",
       "       Humidity9am  Humidity3pm  Pressure9am  Pressure3pm     Cloud9am  \\\n",
       "count  3337.000000  3337.000000  3337.000000  3337.000000  3337.000000   \n",
       "mean     68.229010    54.699158  1018.346156  1016.018774     4.181523   \n",
       "std      15.053668    16.261752     7.000492     7.012157     2.505491   \n",
       "min      19.000000    10.000000   986.700000   989.800000     0.000000   \n",
       "25%      58.000000    44.000000  1013.800000  1011.300000     2.000000   \n",
       "50%      69.000000    56.000000  1018.500000  1016.300000     4.181523   \n",
       "75%      80.000000    64.000000  1023.100000  1020.800000     7.000000   \n",
       "max     100.000000    99.000000  1039.000000  1036.700000     9.000000   \n",
       "\n",
       "          Cloud3pm      Temp9am      Temp3pm  \n",
       "count  3337.000000  3337.000000  3337.000000  \n",
       "mean      4.218660    17.819742    21.528882  \n",
       "std       2.409531     4.894240     4.303075  \n",
       "min       0.000000     6.400000    10.200000  \n",
       "25%       2.000000    13.800000    18.400000  \n",
       "50%       4.218660    18.200000    21.300000  \n",
       "75%       7.000000    21.700000    24.500000  \n",
       "max       8.000000    36.500000    44.700000  "
      ]
     },
     "execution_count": 21,
     "metadata": {},
     "output_type": "execute_result"
    }
   ],
   "source": [
    "df.describe()"
   ]
  },
  {
   "cell_type": "markdown",
   "id": "0a0ab192",
   "metadata": {},
   "source": [
    "# Conclusion About Missing Value : \n",
    "### Since the all columns with missing value are continuous so we imupted the missing values with 'Mean'. "
   ]
  },
  {
   "cell_type": "markdown",
   "id": "3a63aa08",
   "metadata": {},
   "source": [
    "## Checking outliers:"
   ]
  },
  {
   "cell_type": "code",
   "execution_count": 22,
   "id": "6108cf3c",
   "metadata": {},
   "outputs": [
    {
     "data": {
      "image/png": "[encoded data removed]",
      "text/plain": [
       "<Figure size 432x288 with 1 Axes>"
      ]
     },
     "metadata": {
      "needs_background": "light"
     },
     "output_type": "display_data"
    },
    {
     "data": {
      "image/png": "[encoded data removed]",
      "text/plain": [
       "<Figure size 432x288 with 1 Axes>"
      ]
     },
     "metadata": {
      "needs_background": "light"
     },
     "output_type": "display_data"
    },
    {
     "data": {
      "image/png": "[encoded data removed]",
      "text/plain": [
       "<Figure size 432x288 with 1 Axes>"
      ]
     },
     "metadata": {
      "needs_background": "light"
     },
     "output_type": "display_data"
    },
    {
     "data": {
      "image/png": "[encoded data removed]",
      "text/plain": [
       "<Figure size 432x288 with 1 Axes>"
      ]
     },
     "metadata": {
      "needs_background": "light"
     },
     "output_type": "display_data"
    },
    {
     "data": {
      "image/png": "[encoded data removed]",
      "text/plain": [
       "<Figure size 432x288 with 1 Axes>"
      ]
     },
     "metadata": {
      "needs_background": "light"
     },
     "output_type": "display_data"
    },
    {
     "data": {
      "image/png": "[encoded data removed]",
      "text/plain": [
       "<Figure size 432x288 with 1 Axes>"
      ]
     },
     "metadata": {
      "needs_background": "light"
     },
     "output_type": "display_data"
    },
    {
     "data": {
      "image/png": "[encoded data removed]",
      "text/plain": [
       "<Figure size 432x288 with 1 Axes>"
      ]
     },
     "metadata": {
      "needs_background": "light"
     },
     "output_type": "display_data"
    },
    {
     "data": {
      "image/png": "[encoded data removed]",
      "text/plain": [
       "<Figure size 432x288 with 1 Axes>"
      ]
     },
     "metadata": {
      "needs_background": "light"
     },
     "output_type": "display_data"
    },
    {
     "data": {
      "image/png": "[encoded data removed]",
      "text/plain": [
       "<Figure size 432x288 with 1 Axes>"
      ]
     },
     "metadata": {
      "needs_background": "light"
     },
     "output_type": "display_data"
    },
    {
     "data": {
      "image/png": "[encoded data removed]",
      "text/plain": [
       "<Figure size 432x288 with 1 Axes>"
      ]
     },
     "metadata": {
      "needs_background": "light"
     },
     "output_type": "display_data"
    },
    {
     "data": {
      "image/png": "[encoded data removed]",
      "text/plain": [
       "<Figure size 432x288 with 1 Axes>"
      ]
     },
     "metadata": {
      "needs_background": "light"
     },
     "output_type": "display_data"
    },
    {
     "data": {
      "image/png": "[encoded data removed]",
      "text/plain": [
       "<Figure size 432x288 with 1 Axes>"
      ]
     },
     "metadata": {
      "needs_background": "light"
     },
     "output_type": "display_data"
    },
    {
     "data": {
      "image/png": "[encoded data removed]",
      "text/plain": [
       "<Figure size 432x288 with 1 Axes>"
      ]
     },
     "metadata": {
      "needs_background": "light"
     },
     "output_type": "display_data"
    }
   ],
   "source": [
    "for col in df.select_dtypes(include=np.number).columns:\n",
    "    sns.boxplot(x=df[col])\n",
    "    plt.show()"
   ]
  },
  {
   "cell_type": "markdown",
   "id": "7cf17aa0",
   "metadata": {},
   "source": [
    "## Imputing Outliers:"
   ]
  },
  {
   "cell_type": "code",
   "execution_count": 23,
   "id": "2cd09623",
   "metadata": {},
   "outputs": [],
   "source": [
    "## Calculate the Interquartile Range (IQR) for each numerical feature\n",
    "Q1=df.quantile(0.25)\n",
    "Q3=df.quantile(0.75)\n",
    "IQR=Q3-Q1"
   ]
  },
  {
   "cell_type": "code",
   "execution_count": 24,
   "id": "3d79ab4b",
   "metadata": {},
   "outputs": [],
   "source": [
    "## Calculate the lower and upper bounds for each feature\n",
    "lower_bound=Q1-(1.5*IQR)\n",
    "upper_bound=Q3+(1.5*IQR)"
   ]
  },
  {
   "cell_type": "code",
   "execution_count": 25,
   "id": "8324a80d",
   "metadata": {},
   "outputs": [],
   "source": [
    "# Replace outliers with the lower or upper bound\n",
    "for col in df.select_dtypes(include=np.number).columns:\n",
    "    df[col]=np.where((df[col]<lower_bound[col]) , lower_bound[col] , df[col])\n",
    "    df[col]=np.where((df[col]>upper_bound[col]) , upper_bound[col] , df[col])"
   ]
  },
  {
   "cell_type": "markdown",
   "id": "e19f5a4c",
   "metadata": {},
   "source": [
    "## Check whether there is outliers or not after treating it:"
   ]
  },
  {
   "cell_type": "code",
   "execution_count": 26,
   "id": "2f0547a5",
   "metadata": {},
   "outputs": [
    {
     "data": {
      "image/png": "[encoded data removed]",
      "text/plain": [
       "<Figure size 432x288 with 1 Axes>"
      ]
     },
     "metadata": {
      "needs_background": "light"
     },
     "output_type": "display_data"
    },
    {
     "data": {
      "image/png": "[encoded data removed]",
      "text/plain": [
       "<Figure size 432x288 with 1 Axes>"
      ]
     },
     "metadata": {
      "needs_background": "light"
     },
     "output_type": "display_data"
    },
    {
     "data": {
      "image/png": "[encoded data removed]",
      "text/plain": [
       "<Figure size 432x288 with 1 Axes>"
      ]
     },
     "metadata": {
      "needs_background": "light"
     },
     "output_type": "display_data"
    },
    {
     "data": {
      "image/png": "[encoded data removed]",
      "text/plain": [
       "<Figure size 432x288 with 1 Axes>"
      ]
     },
     "metadata": {
      "needs_background": "light"
     },
     "output_type": "display_data"
    },
    {
     "data": {
      "image/png": "[encoded data removed]",
      "text/plain": [
       "<Figure size 432x288 with 1 Axes>"
      ]
     },
     "metadata": {
      "needs_background": "light"
     },
     "output_type": "display_data"
    },
    {
     "data": {
      "image/png": "[encoded data removed]",
      "text/plain": [
       "<Figure size 432x288 with 1 Axes>"
      ]
     },
     "metadata": {
      "needs_background": "light"
     },
     "output_type": "display_data"
    },
    {
     "data": {
      "image/png": "[encoded data removed]",
      "text/plain": [
       "<Figure size 432x288 with 1 Axes>"
      ]
     },
     "metadata": {
      "needs_background": "light"
     },
     "output_type": "display_data"
    },
    {
     "data": {
      "image/png": "[encoded data removed]",
      "text/plain": [
       "<Figure size 432x288 with 1 Axes>"
      ]
     },
     "metadata": {
      "needs_background": "light"
     },
     "output_type": "display_data"
    },
    {
     "data": {
      "image/png": "[encoded data removed]",
      "text/plain": [
       "<Figure size 432x288 with 1 Axes>"
      ]
     },
     "metadata": {
      "needs_background": "light"
     },
     "output_type": "display_data"
    },
    {
     "data": {
      "image/png": "[encoded data removed]",
      "text/plain": [
       "<Figure size 432x288 with 1 Axes>"
      ]
     },
     "metadata": {
      "needs_background": "light"
     },
     "output_type": "display_data"
    },
    {
     "data": {
      "image/png": "[encoded data removed]",
      "text/plain": [
       "<Figure size 432x288 with 1 Axes>"
      ]
     },
     "metadata": {
      "needs_background": "light"
     },
     "output_type": "display_data"
    },
    {
     "data": {
      "image/png": "[encoded data removed]",
      "text/plain": [
       "<Figure size 432x288 with 1 Axes>"
      ]
     },
     "metadata": {
      "needs_background": "light"
     },
     "output_type": "display_data"
    },
    {
     "data": {
      "image/png": "[encoded data removed]",
      "text/plain": [
       "<Figure size 432x288 with 1 Axes>"
      ]
     },
     "metadata": {
      "needs_background": "light"
     },
     "output_type": "display_data"
    }
   ],
   "source": [
    "for col in df.select_dtypes(include=np.number).columns:\n",
    "    sns.boxplot(x=df[col])\n",
    "    plt.show()"
   ]
  },
  {
   "cell_type": "markdown",
   "id": "99cfd6e8",
   "metadata": {},
   "source": [
    "## Ordinal Encoding:"
   ]
  },
  {
   "cell_type": "code",
   "execution_count": 27,
   "id": "4aeeb55f",
   "metadata": {},
   "outputs": [],
   "source": [
    "from sklearn.preprocessing import OrdinalEncoder"
   ]
  },
  {
   "cell_type": "code",
   "execution_count": 28,
   "id": "d02420e1",
   "metadata": {},
   "outputs": [],
   "source": [
    "## define the ordinal encoding and create ordinal encoder instance\n",
    "oe=OrdinalEncoder(categories=[['No' , 'Yes']])"
   ]
  },
  {
   "cell_type": "code",
   "execution_count": 29,
   "id": "5f0539fa",
   "metadata": {},
   "outputs": [],
   "source": [
    "encoder=OrdinalEncoder()"
   ]
  },
  {
   "cell_type": "code",
   "execution_count": 30,
   "id": "8c5e7047",
   "metadata": {},
   "outputs": [
    {
     "name": "stdout",
     "output_type": "stream",
     "text": [
      "\n",
      "DataFrame after Ordinal Encoding:\n",
      "            Date Location  MinTemp  MaxTemp  Rainfall  Evaporation  Sunshine  \\\n",
      "0     01-02-2008   Sydney     19.5     22.4       3.5     6.200000       0.0   \n",
      "1     02-02-2008   Sydney     19.5     25.6       3.5     3.400000       2.7   \n",
      "2     03-02-2008   Sydney     21.6     24.5       3.5     2.400000       0.1   \n",
      "3     04-02-2008   Sydney     20.2     22.8       3.5     2.200000       0.0   \n",
      "4     05-02-2008   Sydney     19.7     25.7       3.5     5.187432       0.0   \n",
      "...          ...      ...      ...      ...       ...          ...       ...   \n",
      "3332  21-06-2017   Sydney      8.6     19.6       0.0     2.000000       7.8   \n",
      "3333  22-06-2017   Sydney      9.3     19.2       0.0     2.000000       9.2   \n",
      "3334  23-06-2017   Sydney      9.4     17.7       0.0     2.400000       2.7   \n",
      "3335  24-06-2017   Sydney     10.1     19.3       0.0     1.400000       9.3   \n",
      "3336  25-06-2017   Sydney      7.6     19.3       0.0     3.400000       9.4   \n",
      "\n",
      "      Humidity9am  Humidity3pm  Pressure9am  Pressure3pm  Cloud9am  Cloud3pm  \\\n",
      "0            92.0         84.0       1017.6       1017.4       8.0       8.0   \n",
      "1            83.0         73.0       1017.9       1016.4       7.0       7.0   \n",
      "2            88.0         86.0       1016.7       1015.6       7.0       8.0   \n",
      "3            83.0         90.0       1014.2       1011.8       8.0       8.0   \n",
      "4            88.0         74.0       1008.3       1004.8       8.0       8.0   \n",
      "...           ...          ...          ...          ...       ...       ...   \n",
      "3332         73.0         52.0       1025.9       1025.3       2.0       2.0   \n",
      "3333         78.0         53.0       1028.5       1024.6       2.0       2.0   \n",
      "3334         85.0         56.0       1020.8       1015.0       6.0       6.0   \n",
      "3335         56.0         35.0       1017.3       1015.1       5.0       2.0   \n",
      "3336         73.0         32.0       1018.6       1015.4       1.0       1.0   \n",
      "\n",
      "      Temp9am  Temp3pm RainToday RainTomorrow  RainTomorrow_yes_no  \n",
      "0        20.7     20.9       Yes          Yes                  1.0  \n",
      "1        22.4     24.8       Yes          Yes                  1.0  \n",
      "2        23.5     23.0       Yes          Yes                  1.0  \n",
      "3        21.4     20.9       Yes          Yes                  1.0  \n",
      "4        22.5     25.5       Yes          Yes                  1.0  \n",
      "...       ...      ...       ...          ...                  ...  \n",
      "3332     10.5     17.9        No           No                  0.0  \n",
      "3333     11.0     18.7        No           No                  0.0  \n",
      "3334     10.2     17.3        No           No                  0.0  \n",
      "3335     12.4     19.0        No           No                  0.0  \n",
      "3336      9.4     18.8        No           No                  0.0  \n",
      "\n",
      "[3337 rows x 18 columns]\n"
     ]
    }
   ],
   "source": [
    "## apply ordinal encoding\n",
    "df['RainTomorrow_yes_no']=encoder.fit_transform(df[['RainTomorrow']])\n",
    "print(\"\\nDataFrame after Ordinal Encoding:\")\n",
    "print(df)"
   ]
  },
  {
   "cell_type": "code",
   "execution_count": 31,
   "id": "7ad4cf45",
   "metadata": {},
   "outputs": [
    {
     "data": {
      "text/html": [
       "<div>\n",
       "<style scoped>\n",
       "    .dataframe tbody tr th:only-of-type {\n",
       "        vertical-align: middle;\n",
       "    }\n",
       "\n",
       "    .dataframe tbody tr th {\n",
       "        vertical-align: top;\n",
       "    }\n",
       "\n",
       "    .dataframe thead th {\n",
       "        text-align: right;\n",
       "    }\n",
       "</style>\n",
       "<table border=\"1\" class=\"dataframe\">\n",
       "  <thead>\n",
       "    <tr style=\"text-align: right;\">\n",
       "      <th></th>\n",
       "      <th>Date</th>\n",
       "      <th>Location</th>\n",
       "      <th>MinTemp</th>\n",
       "      <th>MaxTemp</th>\n",
       "      <th>Rainfall</th>\n",
       "      <th>Evaporation</th>\n",
       "      <th>Sunshine</th>\n",
       "      <th>Humidity9am</th>\n",
       "      <th>Humidity3pm</th>\n",
       "      <th>Pressure9am</th>\n",
       "      <th>Pressure3pm</th>\n",
       "      <th>Cloud9am</th>\n",
       "      <th>Cloud3pm</th>\n",
       "      <th>Temp9am</th>\n",
       "      <th>Temp3pm</th>\n",
       "      <th>RainToday</th>\n",
       "      <th>RainTomorrow</th>\n",
       "      <th>RainTomorrow_yes_no</th>\n",
       "    </tr>\n",
       "  </thead>\n",
       "  <tbody>\n",
       "    <tr>\n",
       "      <th>0</th>\n",
       "      <td>01-02-2008</td>\n",
       "      <td>Sydney</td>\n",
       "      <td>19.5</td>\n",
       "      <td>22.4</td>\n",
       "      <td>3.5</td>\n",
       "      <td>6.200000</td>\n",
       "      <td>0.0</td>\n",
       "      <td>92.0</td>\n",
       "      <td>84.0</td>\n",
       "      <td>1017.6</td>\n",
       "      <td>1017.4</td>\n",
       "      <td>8.0</td>\n",
       "      <td>8.0</td>\n",
       "      <td>20.7</td>\n",
       "      <td>20.9</td>\n",
       "      <td>Yes</td>\n",
       "      <td>Yes</td>\n",
       "      <td>1.0</td>\n",
       "    </tr>\n",
       "    <tr>\n",
       "      <th>1</th>\n",
       "      <td>02-02-2008</td>\n",
       "      <td>Sydney</td>\n",
       "      <td>19.5</td>\n",
       "      <td>25.6</td>\n",
       "      <td>3.5</td>\n",
       "      <td>3.400000</td>\n",
       "      <td>2.7</td>\n",
       "      <td>83.0</td>\n",
       "      <td>73.0</td>\n",
       "      <td>1017.9</td>\n",
       "      <td>1016.4</td>\n",
       "      <td>7.0</td>\n",
       "      <td>7.0</td>\n",
       "      <td>22.4</td>\n",
       "      <td>24.8</td>\n",
       "      <td>Yes</td>\n",
       "      <td>Yes</td>\n",
       "      <td>1.0</td>\n",
       "    </tr>\n",
       "    <tr>\n",
       "      <th>2</th>\n",
       "      <td>03-02-2008</td>\n",
       "      <td>Sydney</td>\n",
       "      <td>21.6</td>\n",
       "      <td>24.5</td>\n",
       "      <td>3.5</td>\n",
       "      <td>2.400000</td>\n",
       "      <td>0.1</td>\n",
       "      <td>88.0</td>\n",
       "      <td>86.0</td>\n",
       "      <td>1016.7</td>\n",
       "      <td>1015.6</td>\n",
       "      <td>7.0</td>\n",
       "      <td>8.0</td>\n",
       "      <td>23.5</td>\n",
       "      <td>23.0</td>\n",
       "      <td>Yes</td>\n",
       "      <td>Yes</td>\n",
       "      <td>1.0</td>\n",
       "    </tr>\n",
       "    <tr>\n",
       "      <th>3</th>\n",
       "      <td>04-02-2008</td>\n",
       "      <td>Sydney</td>\n",
       "      <td>20.2</td>\n",
       "      <td>22.8</td>\n",
       "      <td>3.5</td>\n",
       "      <td>2.200000</td>\n",
       "      <td>0.0</td>\n",
       "      <td>83.0</td>\n",
       "      <td>90.0</td>\n",
       "      <td>1014.2</td>\n",
       "      <td>1011.8</td>\n",
       "      <td>8.0</td>\n",
       "      <td>8.0</td>\n",
       "      <td>21.4</td>\n",
       "      <td>20.9</td>\n",
       "      <td>Yes</td>\n",
       "      <td>Yes</td>\n",
       "      <td>1.0</td>\n",
       "    </tr>\n",
       "    <tr>\n",
       "      <th>4</th>\n",
       "      <td>05-02-2008</td>\n",
       "      <td>Sydney</td>\n",
       "      <td>19.7</td>\n",
       "      <td>25.7</td>\n",
       "      <td>3.5</td>\n",
       "      <td>5.187432</td>\n",
       "      <td>0.0</td>\n",
       "      <td>88.0</td>\n",
       "      <td>74.0</td>\n",
       "      <td>1008.3</td>\n",
       "      <td>1004.8</td>\n",
       "      <td>8.0</td>\n",
       "      <td>8.0</td>\n",
       "      <td>22.5</td>\n",
       "      <td>25.5</td>\n",
       "      <td>Yes</td>\n",
       "      <td>Yes</td>\n",
       "      <td>1.0</td>\n",
       "    </tr>\n",
       "  </tbody>\n",
       "</table>\n",
       "</div>"
      ],
      "text/plain": [
       "         Date Location  MinTemp  MaxTemp  Rainfall  Evaporation  Sunshine  \\\n",
       "0  01-02-2008   Sydney     19.5     22.4       3.5     6.200000       0.0   \n",
       "1  02-02-2008   Sydney     19.5     25.6       3.5     3.400000       2.7   \n",
       "2  03-02-2008   Sydney     21.6     24.5       3.5     2.400000       0.1   \n",
       "3  04-02-2008   Sydney     20.2     22.8       3.5     2.200000       0.0   \n",
       "4  05-02-2008   Sydney     19.7     25.7       3.5     5.187432       0.0   \n",
       "\n",
       "   Humidity9am  Humidity3pm  Pressure9am  Pressure3pm  Cloud9am  Cloud3pm  \\\n",
       "0         92.0         84.0       1017.6       1017.4       8.0       8.0   \n",
       "1         83.0         73.0       1017.9       1016.4       7.0       7.0   \n",
       "2         88.0         86.0       1016.7       1015.6       7.0       8.0   \n",
       "3         83.0         90.0       1014.2       1011.8       8.0       8.0   \n",
       "4         88.0         74.0       1008.3       1004.8       8.0       8.0   \n",
       "\n",
       "   Temp9am  Temp3pm RainToday RainTomorrow  RainTomorrow_yes_no  \n",
       "0     20.7     20.9       Yes          Yes                  1.0  \n",
       "1     22.4     24.8       Yes          Yes                  1.0  \n",
       "2     23.5     23.0       Yes          Yes                  1.0  \n",
       "3     21.4     20.9       Yes          Yes                  1.0  \n",
       "4     22.5     25.5       Yes          Yes                  1.0  "
      ]
     },
     "execution_count": 31,
     "metadata": {},
     "output_type": "execute_result"
    }
   ],
   "source": [
    "df.head()"
   ]
  },
  {
   "cell_type": "markdown",
   "id": "def92906",
   "metadata": {},
   "source": [
    "## Dropping Columns:"
   ]
  },
  {
   "cell_type": "code",
   "execution_count": 32,
   "id": "f38bbfa8",
   "metadata": {},
   "outputs": [],
   "source": [
    "df.drop(columns=['Location' , 'RainToday' , 'Date' , 'RainTomorrow'] , inplace=True)"
   ]
  },
  {
   "cell_type": "code",
   "execution_count": 33,
   "id": "67e75667",
   "metadata": {},
   "outputs": [
    {
     "data": {
      "text/html": [
       "<div>\n",
       "<style scoped>\n",
       "    .dataframe tbody tr th:only-of-type {\n",
       "        vertical-align: middle;\n",
       "    }\n",
       "\n",
       "    .dataframe tbody tr th {\n",
       "        vertical-align: top;\n",
       "    }\n",
       "\n",
       "    .dataframe thead th {\n",
       "        text-align: right;\n",
       "    }\n",
       "</style>\n",
       "<table border=\"1\" class=\"dataframe\">\n",
       "  <thead>\n",
       "    <tr style=\"text-align: right;\">\n",
       "      <th></th>\n",
       "      <th>MinTemp</th>\n",
       "      <th>MaxTemp</th>\n",
       "      <th>Rainfall</th>\n",
       "      <th>Evaporation</th>\n",
       "      <th>Sunshine</th>\n",
       "      <th>Humidity9am</th>\n",
       "      <th>Humidity3pm</th>\n",
       "      <th>Pressure9am</th>\n",
       "      <th>Pressure3pm</th>\n",
       "      <th>Cloud9am</th>\n",
       "      <th>Cloud3pm</th>\n",
       "      <th>Temp9am</th>\n",
       "      <th>Temp3pm</th>\n",
       "      <th>RainTomorrow_yes_no</th>\n",
       "    </tr>\n",
       "  </thead>\n",
       "  <tbody>\n",
       "    <tr>\n",
       "      <th>0</th>\n",
       "      <td>19.5</td>\n",
       "      <td>22.4</td>\n",
       "      <td>3.5</td>\n",
       "      <td>6.200000</td>\n",
       "      <td>0.0</td>\n",
       "      <td>92.0</td>\n",
       "      <td>84.0</td>\n",
       "      <td>1017.6</td>\n",
       "      <td>1017.4</td>\n",
       "      <td>8.0</td>\n",
       "      <td>8.0</td>\n",
       "      <td>20.7</td>\n",
       "      <td>20.9</td>\n",
       "      <td>1.0</td>\n",
       "    </tr>\n",
       "    <tr>\n",
       "      <th>1</th>\n",
       "      <td>19.5</td>\n",
       "      <td>25.6</td>\n",
       "      <td>3.5</td>\n",
       "      <td>3.400000</td>\n",
       "      <td>2.7</td>\n",
       "      <td>83.0</td>\n",
       "      <td>73.0</td>\n",
       "      <td>1017.9</td>\n",
       "      <td>1016.4</td>\n",
       "      <td>7.0</td>\n",
       "      <td>7.0</td>\n",
       "      <td>22.4</td>\n",
       "      <td>24.8</td>\n",
       "      <td>1.0</td>\n",
       "    </tr>\n",
       "    <tr>\n",
       "      <th>2</th>\n",
       "      <td>21.6</td>\n",
       "      <td>24.5</td>\n",
       "      <td>3.5</td>\n",
       "      <td>2.400000</td>\n",
       "      <td>0.1</td>\n",
       "      <td>88.0</td>\n",
       "      <td>86.0</td>\n",
       "      <td>1016.7</td>\n",
       "      <td>1015.6</td>\n",
       "      <td>7.0</td>\n",
       "      <td>8.0</td>\n",
       "      <td>23.5</td>\n",
       "      <td>23.0</td>\n",
       "      <td>1.0</td>\n",
       "    </tr>\n",
       "    <tr>\n",
       "      <th>3</th>\n",
       "      <td>20.2</td>\n",
       "      <td>22.8</td>\n",
       "      <td>3.5</td>\n",
       "      <td>2.200000</td>\n",
       "      <td>0.0</td>\n",
       "      <td>83.0</td>\n",
       "      <td>90.0</td>\n",
       "      <td>1014.2</td>\n",
       "      <td>1011.8</td>\n",
       "      <td>8.0</td>\n",
       "      <td>8.0</td>\n",
       "      <td>21.4</td>\n",
       "      <td>20.9</td>\n",
       "      <td>1.0</td>\n",
       "    </tr>\n",
       "    <tr>\n",
       "      <th>4</th>\n",
       "      <td>19.7</td>\n",
       "      <td>25.7</td>\n",
       "      <td>3.5</td>\n",
       "      <td>5.187432</td>\n",
       "      <td>0.0</td>\n",
       "      <td>88.0</td>\n",
       "      <td>74.0</td>\n",
       "      <td>1008.3</td>\n",
       "      <td>1004.8</td>\n",
       "      <td>8.0</td>\n",
       "      <td>8.0</td>\n",
       "      <td>22.5</td>\n",
       "      <td>25.5</td>\n",
       "      <td>1.0</td>\n",
       "    </tr>\n",
       "  </tbody>\n",
       "</table>\n",
       "</div>"
      ],
      "text/plain": [
       "   MinTemp  MaxTemp  Rainfall  Evaporation  Sunshine  Humidity9am  \\\n",
       "0     19.5     22.4       3.5     6.200000       0.0         92.0   \n",
       "1     19.5     25.6       3.5     3.400000       2.7         83.0   \n",
       "2     21.6     24.5       3.5     2.400000       0.1         88.0   \n",
       "3     20.2     22.8       3.5     2.200000       0.0         83.0   \n",
       "4     19.7     25.7       3.5     5.187432       0.0         88.0   \n",
       "\n",
       "   Humidity3pm  Pressure9am  Pressure3pm  Cloud9am  Cloud3pm  Temp9am  \\\n",
       "0         84.0       1017.6       1017.4       8.0       8.0     20.7   \n",
       "1         73.0       1017.9       1016.4       7.0       7.0     22.4   \n",
       "2         86.0       1016.7       1015.6       7.0       8.0     23.5   \n",
       "3         90.0       1014.2       1011.8       8.0       8.0     21.4   \n",
       "4         74.0       1008.3       1004.8       8.0       8.0     22.5   \n",
       "\n",
       "   Temp3pm  RainTomorrow_yes_no  \n",
       "0     20.9                  1.0  \n",
       "1     24.8                  1.0  \n",
       "2     23.0                  1.0  \n",
       "3     20.9                  1.0  \n",
       "4     25.5                  1.0  "
      ]
     },
     "execution_count": 33,
     "metadata": {},
     "output_type": "execute_result"
    }
   ],
   "source": [
    "df.head()"
   ]
  },
  {
   "cell_type": "markdown",
   "id": "b965dd3a",
   "metadata": {},
   "source": [
    "# Conclusion about dataset:\n",
    "## Since columns 'Location' and 'RainToday' has only one value ie. 'Sydney' and 'Yes' respectively through the data which is irrelevant to our dataset and column 'Date' is also irrevalent to our dataset so i dropped these columns.\n",
    "## Since we did Ordinal Encoding in the column 'RainTomorrow' to 'RainTomorrow_Yes_No so we dropped 'RainTomorrow' column."
   ]
  },
  {
   "cell_type": "markdown",
   "id": "6fffcd62",
   "metadata": {},
   "source": [
    "## Train_Test_Split:"
   ]
  },
  {
   "cell_type": "code",
   "execution_count": 34,
   "id": "ea95189d",
   "metadata": {},
   "outputs": [],
   "source": [
    "## defing \n",
    "x_multi = df.loc[:, df.columns !=\"RainTomorrow_yes_no\"]\n",
    "y_multi = df['RainTomorrow_yes_no']"
   ]
  },
  {
   "cell_type": "code",
   "execution_count": 35,
   "id": "18010341",
   "metadata": {},
   "outputs": [],
   "source": [
    "from sklearn.model_selection import train_test_split"
   ]
  },
  {
   "cell_type": "code",
   "execution_count": 36,
   "id": "c37ff19c",
   "metadata": {},
   "outputs": [],
   "source": [
    "# Split the data into training and testing sets\n",
    "x_train, x_test, y_train, y_test = train_test_split(x_multi, y_multi, test_size=0.2, random_state=42)"
   ]
  },
  {
   "cell_type": "code",
   "execution_count": 37,
   "id": "bd96d6a8",
   "metadata": {},
   "outputs": [
    {
     "data": {
      "text/html": [
       "<div>\n",
       "<style scoped>\n",
       "    .dataframe tbody tr th:only-of-type {\n",
       "        vertical-align: middle;\n",
       "    }\n",
       "\n",
       "    .dataframe tbody tr th {\n",
       "        vertical-align: top;\n",
       "    }\n",
       "\n",
       "    .dataframe thead th {\n",
       "        text-align: right;\n",
       "    }\n",
       "</style>\n",
       "<table border=\"1\" class=\"dataframe\">\n",
       "  <thead>\n",
       "    <tr style=\"text-align: right;\">\n",
       "      <th></th>\n",
       "      <th>MinTemp</th>\n",
       "      <th>MaxTemp</th>\n",
       "      <th>Rainfall</th>\n",
       "      <th>Evaporation</th>\n",
       "      <th>Sunshine</th>\n",
       "      <th>Humidity9am</th>\n",
       "      <th>Humidity3pm</th>\n",
       "      <th>Pressure9am</th>\n",
       "      <th>Pressure3pm</th>\n",
       "      <th>Cloud9am</th>\n",
       "      <th>Cloud3pm</th>\n",
       "      <th>Temp9am</th>\n",
       "      <th>Temp3pm</th>\n",
       "    </tr>\n",
       "  </thead>\n",
       "  <tbody>\n",
       "    <tr>\n",
       "      <th>0</th>\n",
       "      <td>19.5</td>\n",
       "      <td>22.4</td>\n",
       "      <td>3.5</td>\n",
       "      <td>6.200000</td>\n",
       "      <td>0.0</td>\n",
       "      <td>92.0</td>\n",
       "      <td>84.0</td>\n",
       "      <td>1017.6</td>\n",
       "      <td>1017.4</td>\n",
       "      <td>8.0</td>\n",
       "      <td>8.0</td>\n",
       "      <td>20.7</td>\n",
       "      <td>20.9</td>\n",
       "    </tr>\n",
       "    <tr>\n",
       "      <th>1</th>\n",
       "      <td>19.5</td>\n",
       "      <td>25.6</td>\n",
       "      <td>3.5</td>\n",
       "      <td>3.400000</td>\n",
       "      <td>2.7</td>\n",
       "      <td>83.0</td>\n",
       "      <td>73.0</td>\n",
       "      <td>1017.9</td>\n",
       "      <td>1016.4</td>\n",
       "      <td>7.0</td>\n",
       "      <td>7.0</td>\n",
       "      <td>22.4</td>\n",
       "      <td>24.8</td>\n",
       "    </tr>\n",
       "    <tr>\n",
       "      <th>2</th>\n",
       "      <td>21.6</td>\n",
       "      <td>24.5</td>\n",
       "      <td>3.5</td>\n",
       "      <td>2.400000</td>\n",
       "      <td>0.1</td>\n",
       "      <td>88.0</td>\n",
       "      <td>86.0</td>\n",
       "      <td>1016.7</td>\n",
       "      <td>1015.6</td>\n",
       "      <td>7.0</td>\n",
       "      <td>8.0</td>\n",
       "      <td>23.5</td>\n",
       "      <td>23.0</td>\n",
       "    </tr>\n",
       "    <tr>\n",
       "      <th>3</th>\n",
       "      <td>20.2</td>\n",
       "      <td>22.8</td>\n",
       "      <td>3.5</td>\n",
       "      <td>2.200000</td>\n",
       "      <td>0.0</td>\n",
       "      <td>83.0</td>\n",
       "      <td>90.0</td>\n",
       "      <td>1014.2</td>\n",
       "      <td>1011.8</td>\n",
       "      <td>8.0</td>\n",
       "      <td>8.0</td>\n",
       "      <td>21.4</td>\n",
       "      <td>20.9</td>\n",
       "    </tr>\n",
       "    <tr>\n",
       "      <th>4</th>\n",
       "      <td>19.7</td>\n",
       "      <td>25.7</td>\n",
       "      <td>3.5</td>\n",
       "      <td>5.187432</td>\n",
       "      <td>0.0</td>\n",
       "      <td>88.0</td>\n",
       "      <td>74.0</td>\n",
       "      <td>1008.3</td>\n",
       "      <td>1004.8</td>\n",
       "      <td>8.0</td>\n",
       "      <td>8.0</td>\n",
       "      <td>22.5</td>\n",
       "      <td>25.5</td>\n",
       "    </tr>\n",
       "  </tbody>\n",
       "</table>\n",
       "</div>"
      ],
      "text/plain": [
       "   MinTemp  MaxTemp  Rainfall  Evaporation  Sunshine  Humidity9am  \\\n",
       "0     19.5     22.4       3.5     6.200000       0.0         92.0   \n",
       "1     19.5     25.6       3.5     3.400000       2.7         83.0   \n",
       "2     21.6     24.5       3.5     2.400000       0.1         88.0   \n",
       "3     20.2     22.8       3.5     2.200000       0.0         83.0   \n",
       "4     19.7     25.7       3.5     5.187432       0.0         88.0   \n",
       "\n",
       "   Humidity3pm  Pressure9am  Pressure3pm  Cloud9am  Cloud3pm  Temp9am  Temp3pm  \n",
       "0         84.0       1017.6       1017.4       8.0       8.0     20.7     20.9  \n",
       "1         73.0       1017.9       1016.4       7.0       7.0     22.4     24.8  \n",
       "2         86.0       1016.7       1015.6       7.0       8.0     23.5     23.0  \n",
       "3         90.0       1014.2       1011.8       8.0       8.0     21.4     20.9  \n",
       "4         74.0       1008.3       1004.8       8.0       8.0     22.5     25.5  "
      ]
     },
     "execution_count": 37,
     "metadata": {},
     "output_type": "execute_result"
    }
   ],
   "source": [
    "x_multi.head()"
   ]
  },
  {
   "cell_type": "code",
   "execution_count": 38,
   "id": "9ff001e4",
   "metadata": {},
   "outputs": [
    {
     "data": {
      "text/plain": [
       "0    1.0\n",
       "1    1.0\n",
       "2    1.0\n",
       "3    1.0\n",
       "4    1.0\n",
       "Name: RainTomorrow_yes_no, dtype: float64"
      ]
     },
     "execution_count": 38,
     "metadata": {},
     "output_type": "execute_result"
    }
   ],
   "source": [
    "y_multi.head()"
   ]
  },
  {
   "cell_type": "code",
   "execution_count": 39,
   "id": "9dd805fc",
   "metadata": {},
   "outputs": [
    {
     "data": {
      "text/plain": [
       "(3337, 13)"
      ]
     },
     "execution_count": 39,
     "metadata": {},
     "output_type": "execute_result"
    }
   ],
   "source": [
    "x_multi.shape"
   ]
  },
  {
   "cell_type": "code",
   "execution_count": 40,
   "id": "35861dc5",
   "metadata": {},
   "outputs": [
    {
     "data": {
      "text/plain": [
       "(3337,)"
      ]
     },
     "execution_count": 40,
     "metadata": {},
     "output_type": "execute_result"
    }
   ],
   "source": [
    "y_multi.shape"
   ]
  },
  {
   "cell_type": "code",
   "execution_count": 41,
   "id": "0ac81f43",
   "metadata": {},
   "outputs": [
    {
     "data": {
      "text/html": [
       "<div>\n",
       "<style scoped>\n",
       "    .dataframe tbody tr th:only-of-type {\n",
       "        vertical-align: middle;\n",
       "    }\n",
       "\n",
       "    .dataframe tbody tr th {\n",
       "        vertical-align: top;\n",
       "    }\n",
       "\n",
       "    .dataframe thead th {\n",
       "        text-align: right;\n",
       "    }\n",
       "</style>\n",
       "<table border=\"1\" class=\"dataframe\">\n",
       "  <thead>\n",
       "    <tr style=\"text-align: right;\">\n",
       "      <th></th>\n",
       "      <th>MinTemp</th>\n",
       "      <th>MaxTemp</th>\n",
       "      <th>Rainfall</th>\n",
       "      <th>Evaporation</th>\n",
       "      <th>Sunshine</th>\n",
       "      <th>Humidity9am</th>\n",
       "      <th>Humidity3pm</th>\n",
       "      <th>Pressure9am</th>\n",
       "      <th>Pressure3pm</th>\n",
       "      <th>Cloud9am</th>\n",
       "      <th>Cloud3pm</th>\n",
       "      <th>Temp9am</th>\n",
       "      <th>Temp3pm</th>\n",
       "    </tr>\n",
       "  </thead>\n",
       "  <tbody>\n",
       "    <tr>\n",
       "      <th>2208</th>\n",
       "      <td>14.4</td>\n",
       "      <td>25.5</td>\n",
       "      <td>0.0</td>\n",
       "      <td>3.2</td>\n",
       "      <td>4.7</td>\n",
       "      <td>69.0</td>\n",
       "      <td>41.0</td>\n",
       "      <td>1022.9</td>\n",
       "      <td>1019.6</td>\n",
       "      <td>7.000000</td>\n",
       "      <td>7.00000</td>\n",
       "      <td>16.2</td>\n",
       "      <td>25.2</td>\n",
       "    </tr>\n",
       "    <tr>\n",
       "      <th>3300</th>\n",
       "      <td>16.7</td>\n",
       "      <td>23.2</td>\n",
       "      <td>3.5</td>\n",
       "      <td>1.0</td>\n",
       "      <td>5.4</td>\n",
       "      <td>86.0</td>\n",
       "      <td>58.0</td>\n",
       "      <td>1017.9</td>\n",
       "      <td>1015.4</td>\n",
       "      <td>8.000000</td>\n",
       "      <td>3.00000</td>\n",
       "      <td>17.5</td>\n",
       "      <td>22.8</td>\n",
       "    </tr>\n",
       "    <tr>\n",
       "      <th>1309</th>\n",
       "      <td>10.0</td>\n",
       "      <td>20.1</td>\n",
       "      <td>0.2</td>\n",
       "      <td>4.0</td>\n",
       "      <td>2.9</td>\n",
       "      <td>76.0</td>\n",
       "      <td>47.0</td>\n",
       "      <td>1022.6</td>\n",
       "      <td>1018.2</td>\n",
       "      <td>4.181523</td>\n",
       "      <td>4.21866</td>\n",
       "      <td>13.5</td>\n",
       "      <td>17.8</td>\n",
       "    </tr>\n",
       "    <tr>\n",
       "      <th>1472</th>\n",
       "      <td>20.1</td>\n",
       "      <td>28.0</td>\n",
       "      <td>0.0</td>\n",
       "      <td>7.8</td>\n",
       "      <td>10.3</td>\n",
       "      <td>81.0</td>\n",
       "      <td>69.0</td>\n",
       "      <td>1012.8</td>\n",
       "      <td>1009.4</td>\n",
       "      <td>4.181523</td>\n",
       "      <td>4.21866</td>\n",
       "      <td>22.6</td>\n",
       "      <td>25.5</td>\n",
       "    </tr>\n",
       "    <tr>\n",
       "      <th>582</th>\n",
       "      <td>14.7</td>\n",
       "      <td>21.2</td>\n",
       "      <td>0.0</td>\n",
       "      <td>6.4</td>\n",
       "      <td>10.2</td>\n",
       "      <td>36.0</td>\n",
       "      <td>35.0</td>\n",
       "      <td>1016.1</td>\n",
       "      <td>1015.1</td>\n",
       "      <td>2.000000</td>\n",
       "      <td>1.00000</td>\n",
       "      <td>18.2</td>\n",
       "      <td>19.8</td>\n",
       "    </tr>\n",
       "  </tbody>\n",
       "</table>\n",
       "</div>"
      ],
      "text/plain": [
       "      MinTemp  MaxTemp  Rainfall  Evaporation  Sunshine  Humidity9am  \\\n",
       "2208     14.4     25.5       0.0          3.2       4.7         69.0   \n",
       "3300     16.7     23.2       3.5          1.0       5.4         86.0   \n",
       "1309     10.0     20.1       0.2          4.0       2.9         76.0   \n",
       "1472     20.1     28.0       0.0          7.8      10.3         81.0   \n",
       "582      14.7     21.2       0.0          6.4      10.2         36.0   \n",
       "\n",
       "      Humidity3pm  Pressure9am  Pressure3pm  Cloud9am  Cloud3pm  Temp9am  \\\n",
       "2208         41.0       1022.9       1019.6  7.000000   7.00000     16.2   \n",
       "3300         58.0       1017.9       1015.4  8.000000   3.00000     17.5   \n",
       "1309         47.0       1022.6       1018.2  4.181523   4.21866     13.5   \n",
       "1472         69.0       1012.8       1009.4  4.181523   4.21866     22.6   \n",
       "582          35.0       1016.1       1015.1  2.000000   1.00000     18.2   \n",
       "\n",
       "      Temp3pm  \n",
       "2208     25.2  \n",
       "3300     22.8  \n",
       "1309     17.8  \n",
       "1472     25.5  \n",
       "582      19.8  "
      ]
     },
     "execution_count": 41,
     "metadata": {},
     "output_type": "execute_result"
    }
   ],
   "source": [
    "x_train.head()"
   ]
  },
  {
   "cell_type": "code",
   "execution_count": 42,
   "id": "49957f20",
   "metadata": {},
   "outputs": [
    {
     "data": {
      "text/plain": [
       "(2669, 13)"
      ]
     },
     "execution_count": 42,
     "metadata": {},
     "output_type": "execute_result"
    }
   ],
   "source": [
    "x_train.shape"
   ]
  },
  {
   "cell_type": "code",
   "execution_count": 43,
   "id": "84988def",
   "metadata": {},
   "outputs": [
    {
     "data": {
      "text/plain": [
       "(668, 13)"
      ]
     },
     "execution_count": 43,
     "metadata": {},
     "output_type": "execute_result"
    }
   ],
   "source": [
    "x_test.shape"
   ]
  },
  {
   "cell_type": "code",
   "execution_count": 44,
   "id": "c954dc36",
   "metadata": {},
   "outputs": [
    {
     "data": {
      "text/html": [
       "<div>\n",
       "<style scoped>\n",
       "    .dataframe tbody tr th:only-of-type {\n",
       "        vertical-align: middle;\n",
       "    }\n",
       "\n",
       "    .dataframe tbody tr th {\n",
       "        vertical-align: top;\n",
       "    }\n",
       "\n",
       "    .dataframe thead th {\n",
       "        text-align: right;\n",
       "    }\n",
       "</style>\n",
       "<table border=\"1\" class=\"dataframe\">\n",
       "  <thead>\n",
       "    <tr style=\"text-align: right;\">\n",
       "      <th></th>\n",
       "      <th>MinTemp</th>\n",
       "      <th>MaxTemp</th>\n",
       "      <th>Rainfall</th>\n",
       "      <th>Evaporation</th>\n",
       "      <th>Sunshine</th>\n",
       "      <th>Humidity9am</th>\n",
       "      <th>Humidity3pm</th>\n",
       "      <th>Pressure9am</th>\n",
       "      <th>Pressure3pm</th>\n",
       "      <th>Cloud9am</th>\n",
       "      <th>Cloud3pm</th>\n",
       "      <th>Temp9am</th>\n",
       "      <th>Temp3pm</th>\n",
       "    </tr>\n",
       "  </thead>\n",
       "  <tbody>\n",
       "    <tr>\n",
       "      <th>321</th>\n",
       "      <td>19.3</td>\n",
       "      <td>27.4</td>\n",
       "      <td>0.0</td>\n",
       "      <td>4.8</td>\n",
       "      <td>8.4</td>\n",
       "      <td>65.0</td>\n",
       "      <td>68.0</td>\n",
       "      <td>1005.0</td>\n",
       "      <td>1001.2</td>\n",
       "      <td>2.000000</td>\n",
       "      <td>6.00000</td>\n",
       "      <td>23.1</td>\n",
       "      <td>24.0</td>\n",
       "    </tr>\n",
       "    <tr>\n",
       "      <th>3095</th>\n",
       "      <td>18.4</td>\n",
       "      <td>21.7</td>\n",
       "      <td>0.0</td>\n",
       "      <td>8.0</td>\n",
       "      <td>6.2</td>\n",
       "      <td>65.0</td>\n",
       "      <td>63.0</td>\n",
       "      <td>1015.9</td>\n",
       "      <td>1015.7</td>\n",
       "      <td>4.000000</td>\n",
       "      <td>7.00000</td>\n",
       "      <td>20.8</td>\n",
       "      <td>19.9</td>\n",
       "    </tr>\n",
       "    <tr>\n",
       "      <th>727</th>\n",
       "      <td>22.2</td>\n",
       "      <td>26.6</td>\n",
       "      <td>0.0</td>\n",
       "      <td>4.8</td>\n",
       "      <td>1.8</td>\n",
       "      <td>80.0</td>\n",
       "      <td>81.0</td>\n",
       "      <td>1012.1</td>\n",
       "      <td>1009.5</td>\n",
       "      <td>8.000000</td>\n",
       "      <td>8.00000</td>\n",
       "      <td>23.7</td>\n",
       "      <td>24.6</td>\n",
       "    </tr>\n",
       "    <tr>\n",
       "      <th>1334</th>\n",
       "      <td>18.1</td>\n",
       "      <td>25.8</td>\n",
       "      <td>0.0</td>\n",
       "      <td>5.6</td>\n",
       "      <td>8.1</td>\n",
       "      <td>75.0</td>\n",
       "      <td>94.0</td>\n",
       "      <td>1012.1</td>\n",
       "      <td>1009.5</td>\n",
       "      <td>4.181523</td>\n",
       "      <td>4.21866</td>\n",
       "      <td>21.6</td>\n",
       "      <td>21.6</td>\n",
       "    </tr>\n",
       "    <tr>\n",
       "      <th>1569</th>\n",
       "      <td>8.4</td>\n",
       "      <td>18.7</td>\n",
       "      <td>0.0</td>\n",
       "      <td>2.6</td>\n",
       "      <td>1.4</td>\n",
       "      <td>70.0</td>\n",
       "      <td>47.0</td>\n",
       "      <td>1016.4</td>\n",
       "      <td>1010.7</td>\n",
       "      <td>4.181523</td>\n",
       "      <td>4.21866</td>\n",
       "      <td>10.7</td>\n",
       "      <td>18.4</td>\n",
       "    </tr>\n",
       "  </tbody>\n",
       "</table>\n",
       "</div>"
      ],
      "text/plain": [
       "      MinTemp  MaxTemp  Rainfall  Evaporation  Sunshine  Humidity9am  \\\n",
       "321      19.3     27.4       0.0          4.8       8.4         65.0   \n",
       "3095     18.4     21.7       0.0          8.0       6.2         65.0   \n",
       "727      22.2     26.6       0.0          4.8       1.8         80.0   \n",
       "1334     18.1     25.8       0.0          5.6       8.1         75.0   \n",
       "1569      8.4     18.7       0.0          2.6       1.4         70.0   \n",
       "\n",
       "      Humidity3pm  Pressure9am  Pressure3pm  Cloud9am  Cloud3pm  Temp9am  \\\n",
       "321          68.0       1005.0       1001.2  2.000000   6.00000     23.1   \n",
       "3095         63.0       1015.9       1015.7  4.000000   7.00000     20.8   \n",
       "727          81.0       1012.1       1009.5  8.000000   8.00000     23.7   \n",
       "1334         94.0       1012.1       1009.5  4.181523   4.21866     21.6   \n",
       "1569         47.0       1016.4       1010.7  4.181523   4.21866     10.7   \n",
       "\n",
       "      Temp3pm  \n",
       "321      24.0  \n",
       "3095     19.9  \n",
       "727      24.6  \n",
       "1334     21.6  \n",
       "1569     18.4  "
      ]
     },
     "execution_count": 44,
     "metadata": {},
     "output_type": "execute_result"
    }
   ],
   "source": [
    "x_test.head()"
   ]
  },
  {
   "cell_type": "markdown",
   "id": "2af9758f",
   "metadata": {},
   "source": [
    "# Training Models:"
   ]
  },
  {
   "cell_type": "markdown",
   "id": "dc574565",
   "metadata": {},
   "source": [
    "# 1.Decesion Tree: "
   ]
  },
  {
   "cell_type": "code",
   "execution_count": 45,
   "id": "00e2d6e1",
   "metadata": {},
   "outputs": [],
   "source": [
    "from sklearn import tree\n",
    "clftree=tree.DecisionTreeClassifier(max_depth=3)"
   ]
  },
  {
   "cell_type": "code",
   "execution_count": 46,
   "id": "1b70546c",
   "metadata": {},
   "outputs": [
    {
     "data": {
      "text/plain": [
       "DecisionTreeClassifier(max_depth=3)"
      ]
     },
     "execution_count": 46,
     "metadata": {},
     "output_type": "execute_result"
    }
   ],
   "source": [
    "clftree.fit(x_train,y_train)"
   ]
  },
  {
   "cell_type": "code",
   "execution_count": 47,
   "id": "1f0a31f8",
   "metadata": {},
   "outputs": [],
   "source": [
    "## predict values using trained model\n",
    "y_train_pred=clftree.predict(x_train)\n",
    "y_test_pred=clftree.predict(x_test)"
   ]
  },
  {
   "cell_type": "code",
   "execution_count": 48,
   "id": "d5de5f11",
   "metadata": {},
   "outputs": [
    {
     "data": {
      "text/plain": [
       "array([0., 0., 1., 1., 0., 0., 0., 0., 0., 0., 1., 1., 0., 1., 0., 0., 1.,\n",
       "       0., 1., 0., 0., 1., 1., 0., 1., 0., 0., 0., 1., 0., 0., 0., 0., 0.,\n",
       "       0., 0., 0., 0., 1., 0., 0., 0., 0., 1., 1., 0., 0., 1., 0., 0., 0.,\n",
       "       0., 0., 0., 0., 0., 1., 1., 0., 0., 0., 1., 0., 0., 0., 0., 0., 0.,\n",
       "       1., 0., 0., 0., 0., 0., 0., 1., 0., 0., 1., 0., 0., 0., 0., 0., 0.,\n",
       "       1., 0., 0., 0., 0., 0., 0., 1., 0., 0., 1., 0., 0., 0., 1., 1., 1.,\n",
       "       0., 1., 0., 0., 0., 0., 0., 1., 0., 0., 0., 1., 1., 0., 0., 0., 0.,\n",
       "       1., 1., 0., 0., 0., 0., 0., 1., 0., 0., 0., 1., 0., 1., 1., 0., 0.,\n",
       "       0., 0., 1., 0., 0., 0., 0., 0., 0., 0., 0., 0., 0., 0., 1., 0., 0.,\n",
       "       0., 0., 0., 0., 0., 0., 0., 0., 0., 1., 0., 0., 0., 0., 0., 0., 0.,\n",
       "       0., 0., 0., 0., 0., 0., 0., 1., 0., 0., 1., 1., 0., 1., 0., 0., 0.,\n",
       "       0., 0., 0., 0., 0., 0., 0., 0., 0., 0., 0., 1., 0., 0., 1., 0., 0.,\n",
       "       0., 0., 1., 0., 0., 0., 0., 1., 0., 0., 0., 0., 0., 0., 1., 0., 1.,\n",
       "       0., 1., 0., 0., 0., 0., 0., 1., 0., 0., 0., 0., 1., 0., 1., 1., 1.,\n",
       "       1., 0., 0., 0., 0., 1., 0., 0., 0., 0., 0., 1., 0., 0., 1., 1., 0.,\n",
       "       0., 0., 0., 0., 0., 1., 1., 0., 0., 0., 0., 0., 0., 0., 0., 0., 0.,\n",
       "       0., 0., 0., 1., 0., 0., 0., 0., 0., 0., 0., 0., 0., 1., 0., 0., 0.,\n",
       "       0., 1., 0., 0., 0., 0., 0., 1., 0., 0., 0., 0., 0., 0., 0., 0., 0.,\n",
       "       0., 0., 0., 0., 0., 0., 1., 1., 0., 0., 0., 0., 0., 0., 0., 0., 1.,\n",
       "       1., 0., 0., 1., 0., 0., 0., 0., 1., 1., 1., 0., 0., 0., 0., 0., 0.,\n",
       "       0., 0., 0., 1., 0., 0., 0., 0., 1., 0., 0., 0., 0., 0., 0., 0., 0.,\n",
       "       0., 0., 1., 1., 0., 0., 1., 0., 0., 0., 0., 1., 1., 0., 0., 0., 0.,\n",
       "       1., 0., 1., 0., 0., 0., 0., 0., 0., 0., 0., 1., 0., 0., 0., 0., 0.,\n",
       "       0., 0., 1., 1., 0., 0., 1., 0., 0., 0., 1., 0., 1., 0., 0., 1., 0.,\n",
       "       1., 1., 1., 0., 1., 0., 0., 0., 1., 0., 0., 1., 0., 1., 0., 0., 1.,\n",
       "       1., 0., 0., 0., 0., 0., 0., 0., 0., 1., 0., 1., 0., 0., 0., 0., 1.,\n",
       "       0., 0., 0., 0., 0., 0., 0., 0., 0., 0., 1., 1., 0., 0., 0., 0., 1.,\n",
       "       0., 0., 1., 1., 0., 1., 1., 0., 0., 0., 0., 0., 1., 0., 0., 1., 1.,\n",
       "       0., 0., 1., 0., 0., 1., 0., 1., 0., 0., 0., 0., 1., 1., 0., 0., 0.,\n",
       "       0., 0., 0., 1., 0., 0., 0., 0., 1., 0., 0., 0., 0., 1., 0., 0., 0.,\n",
       "       0., 0., 0., 0., 1., 1., 0., 1., 0., 0., 0., 0., 0., 1., 0., 0., 1.,\n",
       "       0., 0., 1., 0., 0., 0., 1., 0., 0., 0., 0., 0., 0., 0., 0., 0., 0.,\n",
       "       0., 1., 0., 0., 0., 0., 0., 0., 0., 1., 0., 0., 0., 0., 1., 0., 0.,\n",
       "       0., 0., 0., 0., 0., 0., 0., 0., 0., 0., 0., 0., 0., 0., 0., 0., 0.,\n",
       "       0., 0., 1., 0., 0., 0., 0., 1., 0., 0., 1., 0., 1., 0., 0., 0., 0.,\n",
       "       1., 0., 0., 0., 0., 0., 1., 0., 0., 0., 0., 1., 1., 1., 1., 1., 0.,\n",
       "       0., 0., 0., 0., 0., 0., 1., 1., 0., 0., 0., 0., 0., 0., 0., 1., 0.,\n",
       "       0., 0., 0., 1., 0., 0., 1., 1., 1., 1., 1., 0., 0., 0., 0., 0., 1.,\n",
       "       1., 0., 0., 0., 0., 1., 0., 1., 1., 0., 1., 0., 0., 0., 1., 0., 0.,\n",
       "       1., 0., 1., 0., 0.])"
      ]
     },
     "execution_count": 48,
     "metadata": {},
     "output_type": "execute_result"
    }
   ],
   "source": [
    "y_test_pred"
   ]
  },
  {
   "cell_type": "code",
   "execution_count": 49,
   "id": "7663e5a8",
   "metadata": {},
   "outputs": [],
   "source": [
    "## Evaluating Model performance \n",
    "from sklearn.metrics import accuracy_score,confusion_matrix,roc_auc_score, precision_score, recall_score"
   ]
  },
  {
   "cell_type": "code",
   "execution_count": 50,
   "id": "4dc9a7a9",
   "metadata": {},
   "outputs": [
    {
     "data": {
      "text/plain": [
       "array([[1815,  173],\n",
       "       [ 288,  393]], dtype=int64)"
      ]
     },
     "execution_count": 50,
     "metadata": {},
     "output_type": "execute_result"
    }
   ],
   "source": [
    "confusion_matrix(y_train,y_train_pred)"
   ]
  },
  {
   "cell_type": "code",
   "execution_count": 51,
   "id": "3258516d",
   "metadata": {},
   "outputs": [
    {
     "data": {
      "text/plain": [
       "array([[430,  54],\n",
       "       [ 78, 106]], dtype=int64)"
      ]
     },
     "execution_count": 51,
     "metadata": {},
     "output_type": "execute_result"
    }
   ],
   "source": [
    "confusion_matrix(y_test,y_test_pred)"
   ]
  },
  {
   "cell_type": "code",
   "execution_count": 52,
   "id": "0fafe503",
   "metadata": {},
   "outputs": [
    {
     "data": {
      "text/plain": [
       "0.8023952095808383"
      ]
     },
     "execution_count": 52,
     "metadata": {},
     "output_type": "execute_result"
    }
   ],
   "source": [
    "accuracy_score(y_test,y_test_pred)"
   ]
  },
  {
   "cell_type": "code",
   "execution_count": 53,
   "id": "8590b07e",
   "metadata": {},
   "outputs": [
    {
     "data": {
      "text/plain": [
       "0.6625"
      ]
     },
     "execution_count": 53,
     "metadata": {},
     "output_type": "execute_result"
    }
   ],
   "source": [
    "precision_score(y_test, y_test_pred)"
   ]
  },
  {
   "cell_type": "code",
   "execution_count": 54,
   "id": "2786dbe0",
   "metadata": {},
   "outputs": [
    {
     "data": {
      "text/plain": [
       "0.5760869565217391"
      ]
     },
     "execution_count": 54,
     "metadata": {},
     "output_type": "execute_result"
    }
   ],
   "source": [
    "recall_score(y_test, y_test_pred)"
   ]
  },
  {
   "cell_type": "code",
   "execution_count": 55,
   "id": "43439ed7",
   "metadata": {},
   "outputs": [
    {
     "data": {
      "text/plain": [
       "0.7322583542939275"
      ]
     },
     "execution_count": 55,
     "metadata": {},
     "output_type": "execute_result"
    }
   ],
   "source": [
    "roc_auc_score(y_test,y_test_pred)"
   ]
  },
  {
   "cell_type": "code",
   "execution_count": 56,
   "id": "2127d773",
   "metadata": {},
   "outputs": [
    {
     "name": "stdout",
     "output_type": "stream",
     "text": [
      "confusion_matrix(y_test,y_test_pred):array([[430,  54],[ 78, 106]], dtype=int64)\n",
      "accuracy_score(y_test,y_test_pred):0.8023952095808383\n",
      "precision_score(y_test, y_test_pred):0.6625\n",
      "recall_score(y_test, y_test_pred):0.5760869565217391\n",
      "roc_auc_score(y_test,y_test_pred):0.7322583542939275\n"
     ]
    }
   ],
   "source": [
    "print(\"confusion_matrix(y_test,y_test_pred):array([[430,  54],[ 78, 106]], dtype=int64)\")\n",
    "print(\"accuracy_score(y_test,y_test_pred):0.8023952095808383\")\n",
    "print(\"precision_score(y_test, y_test_pred):0.6625\")\n",
    "print(\"recall_score(y_test, y_test_pred):0.5760869565217391\")\n",
    "print(\"roc_auc_score(y_test,y_test_pred):0.7322583542939275\")"
   ]
  },
  {
   "cell_type": "markdown",
   "id": "d190e69c",
   "metadata": {},
   "source": [
    "## Plotting Decision Tree:"
   ]
  },
  {
   "cell_type": "code",
   "execution_count": 57,
   "id": "33e66f74",
   "metadata": {},
   "outputs": [],
   "source": [
    "dot_data=tree.export_graphviz(clftree, out_file=None, feature_names=x_train.columns, filled=True)"
   ]
  },
  {
   "cell_type": "code",
   "execution_count": 58,
   "id": "627ddef9",
   "metadata": {},
   "outputs": [],
   "source": [
    "from IPython.display import Image"
   ]
  },
  {
   "cell_type": "code",
   "execution_count": 59,
   "id": "89c1e0db",
   "metadata": {},
   "outputs": [],
   "source": [
    "import pydotplus"
   ]
  },
  {
   "cell_type": "code",
   "execution_count": 60,
   "id": "9341b172",
   "metadata": {},
   "outputs": [
    {
     "data": {
      "image/png": "[encoded data removed]",
      "text/plain": [
       "<IPython.core.display.Image object>"
      ]
     },
     "execution_count": 60,
     "metadata": {},
     "output_type": "execute_result"
    }
   ],
   "source": [
    "graph=pydotplus.graph_from_dot_data(dot_data) \n",
    "Image(graph.create_png())"
   ]
  },
  {
   "cell_type": "markdown",
   "id": "a63f4343",
   "metadata": {},
   "source": [
    "## Controlling Tree Growth:"
   ]
  },
  {
   "cell_type": "code",
   "execution_count": 61,
   "id": "90adce5e",
   "metadata": {},
   "outputs": [
    {
     "data": {
      "image/png": "[encoded data removed]",
      "text/plain": [
       "<IPython.core.display.Image object>"
      ]
     },
     "execution_count": 61,
     "metadata": {},
     "output_type": "execute_result"
    }
   ],
   "source": [
    "clftree2=tree.DecisionTreeClassifier(min_samples_leaf=20, max_depth=4)\n",
    "clftree2.fit(x_train,y_train)\n",
    "dot_data=tree.export_graphviz(clftree2, out_file=None, feature_names=x_train.columns, filled=True)\n",
    "graph2=pydotplus.graph_from_dot_data(dot_data)\n",
    "Image(graph2.create_png())"
   ]
  },
  {
   "cell_type": "code",
   "execution_count": 62,
   "id": "9864ced4",
   "metadata": {},
   "outputs": [
    {
     "data": {
      "text/plain": [
       "array([[446,  38],\n",
       "       [ 92,  92]], dtype=int64)"
      ]
     },
     "execution_count": 62,
     "metadata": {},
     "output_type": "execute_result"
    }
   ],
   "source": [
    "confusion_matrix(y_test,clftree2.predict(x_test))"
   ]
  },
  {
   "cell_type": "code",
   "execution_count": 63,
   "id": "5e56004c",
   "metadata": {},
   "outputs": [
    {
     "data": {
      "text/plain": [
       "0.8053892215568862"
      ]
     },
     "execution_count": 63,
     "metadata": {},
     "output_type": "execute_result"
    }
   ],
   "source": [
    "accuracy_score(y_test,clftree2.predict(x_test))"
   ]
  },
  {
   "cell_type": "code",
   "execution_count": 64,
   "id": "60ee9148",
   "metadata": {},
   "outputs": [
    {
     "data": {
      "text/plain": [
       "0.7076923076923077"
      ]
     },
     "execution_count": 64,
     "metadata": {},
     "output_type": "execute_result"
    }
   ],
   "source": [
    "precision_score(y_test, clftree2.predict(x_test))"
   ]
  },
  {
   "cell_type": "code",
   "execution_count": 65,
   "id": "231c8e35",
   "metadata": {},
   "outputs": [
    {
     "data": {
      "text/plain": [
       "0.5"
      ]
     },
     "execution_count": 65,
     "metadata": {},
     "output_type": "execute_result"
    }
   ],
   "source": [
    "recall_score(y_test, clftree2.predict(x_test))"
   ]
  },
  {
   "cell_type": "code",
   "execution_count": 66,
   "id": "f578eeea",
   "metadata": {},
   "outputs": [
    {
     "data": {
      "text/plain": [
       "0.7107438016528925"
      ]
     },
     "execution_count": 66,
     "metadata": {},
     "output_type": "execute_result"
    }
   ],
   "source": [
    "roc_auc_score(y_test, clftree2.predict(x_test))"
   ]
  },
  {
   "cell_type": "code",
   "execution_count": 67,
   "id": "80c43b27",
   "metadata": {},
   "outputs": [
    {
     "name": "stdout",
     "output_type": "stream",
     "text": [
      "confusion_matrix(y_test,clftree2.predict(x_test)):array([[446,  38], [ 92,  92]], dtype=int64)\n",
      "accuracy_score(y_test,clftree2.predict(x_test)):0.8053892215568862\n",
      "precision_score(y_test,clftree2.predict(x_test)):0.7076923076923077\n",
      "recall_score(y_test,clftree2.predict(x_test)):0.5\n",
      "roc_auc_score(y_test,clftree2.predict(x_test)):0.7107438016528925\n"
     ]
    }
   ],
   "source": [
    "print(\"confusion_matrix(y_test,clftree2.predict(x_test)):array([[446,  38], [ 92,  92]], dtype=int64)\")\n",
    "print(\"accuracy_score(y_test,clftree2.predict(x_test)):0.8053892215568862\")\n",
    "print(\"precision_score(y_test,clftree2.predict(x_test)):0.7076923076923077\")\n",
    "print(\"recall_score(y_test,clftree2.predict(x_test)):0.5\")\n",
    "print(\"roc_auc_score(y_test,clftree2.predict(x_test)):0.7107438016528925\")"
   ]
  },
  {
   "cell_type": "markdown",
   "id": "7ee90525",
   "metadata": {},
   "source": [
    "# 2. Ensemble Techniques:"
   ]
  },
  {
   "cell_type": "markdown",
   "id": "0e5cef0e",
   "metadata": {},
   "source": [
    "## i) Technique1 - Bagging:"
   ]
  },
  {
   "cell_type": "code",
   "execution_count": 68,
   "id": "8d7f150b",
   "metadata": {},
   "outputs": [],
   "source": [
    "from sklearn import tree\n",
    "clftree=tree.DecisionTreeClassifier()"
   ]
  },
  {
   "cell_type": "code",
   "execution_count": 69,
   "id": "d8c81fa9",
   "metadata": {},
   "outputs": [],
   "source": [
    "from sklearn.ensemble import BaggingClassifier"
   ]
  },
  {
   "cell_type": "code",
   "execution_count": 70,
   "id": "8ce93a4b",
   "metadata": {},
   "outputs": [],
   "source": [
    "bag_clf=BaggingClassifier(base_estimator=clftree, n_estimators=1000, bootstrap=True, n_jobs=-1, random_state=42)"
   ]
  },
  {
   "cell_type": "code",
   "execution_count": 71,
   "id": "29f9262a",
   "metadata": {},
   "outputs": [
    {
     "data": {
      "text/plain": [
       "BaggingClassifier(base_estimator=DecisionTreeClassifier(), n_estimators=1000,\n",
       "                  n_jobs=-1, random_state=42)"
      ]
     },
     "execution_count": 71,
     "metadata": {},
     "output_type": "execute_result"
    }
   ],
   "source": [
    "bag_clf.fit(x_train,y_train)"
   ]
  },
  {
   "cell_type": "code",
   "execution_count": 72,
   "id": "ad7045ed",
   "metadata": {},
   "outputs": [
    {
     "data": {
      "text/plain": [
       "array([[446,  38],\n",
       "       [ 78, 106]], dtype=int64)"
      ]
     },
     "execution_count": 72,
     "metadata": {},
     "output_type": "execute_result"
    }
   ],
   "source": [
    "confusion_matrix(y_test,bag_clf.predict(x_test))"
   ]
  },
  {
   "cell_type": "code",
   "execution_count": 73,
   "id": "b16d2829",
   "metadata": {},
   "outputs": [
    {
     "data": {
      "text/plain": [
       "0.8263473053892215"
      ]
     },
     "execution_count": 73,
     "metadata": {},
     "output_type": "execute_result"
    }
   ],
   "source": [
    "accuracy_score(y_test,bag_clf.predict(x_test))"
   ]
  },
  {
   "cell_type": "code",
   "execution_count": 74,
   "id": "be6f94c3",
   "metadata": {},
   "outputs": [
    {
     "data": {
      "text/plain": [
       "0.7361111111111112"
      ]
     },
     "execution_count": 74,
     "metadata": {},
     "output_type": "execute_result"
    }
   ],
   "source": [
    "precision_score(y_test, bag_clf.predict(x_test))"
   ]
  },
  {
   "cell_type": "code",
   "execution_count": 75,
   "id": "dd04ab02",
   "metadata": {},
   "outputs": [
    {
     "data": {
      "text/plain": [
       "0.5760869565217391"
      ]
     },
     "execution_count": 75,
     "metadata": {},
     "output_type": "execute_result"
    }
   ],
   "source": [
    " recall_score(y_test, bag_clf.predict(x_test))"
   ]
  },
  {
   "cell_type": "code",
   "execution_count": 76,
   "id": "3a8b5208",
   "metadata": {},
   "outputs": [
    {
     "data": {
      "text/plain": [
       "0.7487872799137621"
      ]
     },
     "execution_count": 76,
     "metadata": {},
     "output_type": "execute_result"
    }
   ],
   "source": [
    " roc_auc_score(y_test, bag_clf.predict(x_test))"
   ]
  },
  {
   "cell_type": "code",
   "execution_count": 77,
   "id": "8e7b3df3",
   "metadata": {},
   "outputs": [
    {
     "name": "stdout",
     "output_type": "stream",
     "text": [
      "confusion_matrix(y_test,bag_clf.predict(x_test)):array([[446,  38], [ 78,  106]], dtype=int64)\n",
      "accuracy_score(y_test,bag_clf.predict(x_test)):0.8263473053892215\n",
      "precision_score(y_test,bag_clf.predict(x_test)):0.7361111111111112\n",
      "recall_score(y_test,bag_clf.predict(x_test)):0.5760869565217391\n",
      "roc_auc_score(y_test,bag_clf.predict(x_test)):0.7487872799137621\n"
     ]
    }
   ],
   "source": [
    "print(\"confusion_matrix(y_test,bag_clf.predict(x_test)):array([[446,  38], [ 78,  106]], dtype=int64)\")\n",
    "print(\"accuracy_score(y_test,bag_clf.predict(x_test)):0.8263473053892215\")\n",
    "print(\"precision_score(y_test,bag_clf.predict(x_test)):0.7361111111111112\")\n",
    "print(\"recall_score(y_test,bag_clf.predict(x_test)):0.5760869565217391\")\n",
    "print(\"roc_auc_score(y_test,bag_clf.predict(x_test)):0.7487872799137621\")"
   ]
  },
  {
   "cell_type": "markdown",
   "id": "8b493300",
   "metadata": {},
   "source": [
    "## ii) Technique2 - Random Forest"
   ]
  },
  {
   "cell_type": "code",
   "execution_count": 78,
   "id": "8b149953",
   "metadata": {},
   "outputs": [],
   "source": [
    "from sklearn.ensemble import RandomForestClassifier"
   ]
  },
  {
   "cell_type": "code",
   "execution_count": 79,
   "id": "ba2d2ce5",
   "metadata": {},
   "outputs": [],
   "source": [
    "rf_clf=RandomForestClassifier(n_estimators=1000, n_jobs=1, random_state=42)"
   ]
  },
  {
   "cell_type": "code",
   "execution_count": 80,
   "id": "5cb423a2",
   "metadata": {},
   "outputs": [
    {
     "data": {
      "text/plain": [
       "RandomForestClassifier(n_estimators=1000, n_jobs=1, random_state=42)"
      ]
     },
     "execution_count": 80,
     "metadata": {},
     "output_type": "execute_result"
    }
   ],
   "source": [
    "rf_clf.fit(x_train,y_train)"
   ]
  },
  {
   "cell_type": "code",
   "execution_count": 81,
   "id": "9d27d4b8",
   "metadata": {},
   "outputs": [
    {
     "data": {
      "text/plain": [
       "array([[450,  34],\n",
       "       [ 81, 103]], dtype=int64)"
      ]
     },
     "execution_count": 81,
     "metadata": {},
     "output_type": "execute_result"
    }
   ],
   "source": [
    "confusion_matrix(y_test,rf_clf.predict(x_test))"
   ]
  },
  {
   "cell_type": "code",
   "execution_count": 82,
   "id": "b0bbadbe",
   "metadata": {},
   "outputs": [
    {
     "data": {
      "text/plain": [
       "0.8278443113772455"
      ]
     },
     "execution_count": 82,
     "metadata": {},
     "output_type": "execute_result"
    }
   ],
   "source": [
    "accuracy_score(y_test,rf_clf.predict(x_test))"
   ]
  },
  {
   "cell_type": "code",
   "execution_count": 83,
   "id": "0260841f",
   "metadata": {},
   "outputs": [
    {
     "data": {
      "text/plain": [
       "0.7518248175182481"
      ]
     },
     "execution_count": 83,
     "metadata": {},
     "output_type": "execute_result"
    }
   ],
   "source": [
    "precision_score(y_test,rf_clf.predict(x_test))"
   ]
  },
  {
   "cell_type": "code",
   "execution_count": 84,
   "id": "dd13f5bb",
   "metadata": {},
   "outputs": [
    {
     "data": {
      "text/plain": [
       "0.5597826086956522"
      ]
     },
     "execution_count": 84,
     "metadata": {},
     "output_type": "execute_result"
    }
   ],
   "source": [
    "recall_score(y_test,rf_clf.predict(x_test)) "
   ]
  },
  {
   "cell_type": "code",
   "execution_count": 85,
   "id": "5b6a6f5a",
   "metadata": {},
   "outputs": [
    {
     "data": {
      "text/plain": [
       "0.7447673374056775"
      ]
     },
     "execution_count": 85,
     "metadata": {},
     "output_type": "execute_result"
    }
   ],
   "source": [
    "roc_auc_score(y_test, rf_clf.predict(x_test))"
   ]
  },
  {
   "cell_type": "code",
   "execution_count": 86,
   "id": "74f66d30",
   "metadata": {},
   "outputs": [
    {
     "name": "stdout",
     "output_type": "stream",
     "text": [
      "confusion_matrix(y_test,rf_clf.predict(x_test)):array([[450,  34], [ 81,  103]], dtype=int64)\n",
      "accuracy_score(y_test,rf_clf.predict(x_test)):0.8278443113772455\n",
      "precision_score(y_test,rf_clf.predict(x_test)):0.7518248175182481\n",
      "recall_score(y_test,rf_clf.predict(x_test)):0.5760869565217391\n",
      "roc_auc_score(y_test,rf_clf.predict(x_test)):0.7447673374056775\n"
     ]
    }
   ],
   "source": [
    "print(\"confusion_matrix(y_test,rf_clf.predict(x_test)):array([[450,  34], [ 81,  103]], dtype=int64)\")\n",
    "print(\"accuracy_score(y_test,rf_clf.predict(x_test)):0.8278443113772455\")\n",
    "print(\"precision_score(y_test,rf_clf.predict(x_test)):0.7518248175182481\")\n",
    "print(\"recall_score(y_test,rf_clf.predict(x_test)):0.5760869565217391\")\n",
    "print(\"roc_auc_score(y_test,rf_clf.predict(x_test)):0.7447673374056775\")"
   ]
  },
  {
   "cell_type": "markdown",
   "id": "1e4a72e3",
   "metadata": {},
   "source": [
    "## Grid Search:"
   ]
  },
  {
   "cell_type": "code",
   "execution_count": 87,
   "id": "5cccfe18",
   "metadata": {},
   "outputs": [],
   "source": [
    "from sklearn.model_selection import GridSearchCV"
   ]
  },
  {
   "cell_type": "code",
   "execution_count": 88,
   "id": "34c336a3",
   "metadata": {},
   "outputs": [],
   "source": [
    "rf_clf=RandomForestClassifier(n_estimators=250,random_state=42)"
   ]
  },
  {
   "cell_type": "code",
   "execution_count": 89,
   "id": "edce48ef",
   "metadata": {},
   "outputs": [],
   "source": [
    "params_grid={'max_features':[4,5,6,7,8,9,10],\n",
    "           'min_samples_split':[2,3,10]}"
   ]
  },
  {
   "cell_type": "code",
   "execution_count": 90,
   "id": "48684c57",
   "metadata": {},
   "outputs": [],
   "source": [
    "grid_search=GridSearchCV(rf_clf,params_grid,n_jobs=-1,cv=5,scoring='accuracy')"
   ]
  },
  {
   "cell_type": "code",
   "execution_count": 91,
   "id": "ae60763e",
   "metadata": {},
   "outputs": [
    {
     "data": {
      "text/plain": [
       "GridSearchCV(cv=5,\n",
       "             estimator=RandomForestClassifier(n_estimators=250,\n",
       "                                              random_state=42),\n",
       "             n_jobs=-1,\n",
       "             param_grid={'max_features': [4, 5, 6, 7, 8, 9, 10],\n",
       "                         'min_samples_split': [2, 3, 10]},\n",
       "             scoring='accuracy')"
      ]
     },
     "execution_count": 91,
     "metadata": {},
     "output_type": "execute_result"
    }
   ],
   "source": [
    "grid_search.fit(x_train,y_train)"
   ]
  },
  {
   "cell_type": "code",
   "execution_count": 92,
   "id": "9e7ad4aa",
   "metadata": {},
   "outputs": [
    {
     "data": {
      "text/plain": [
       "{'max_features': 4, 'min_samples_split': 10}"
      ]
     },
     "execution_count": 92,
     "metadata": {},
     "output_type": "execute_result"
    }
   ],
   "source": [
    "grid_search.best_params_"
   ]
  },
  {
   "cell_type": "code",
   "execution_count": 93,
   "id": "c153aff0",
   "metadata": {},
   "outputs": [],
   "source": [
    "cvrf_clf=grid_search.best_estimator_"
   ]
  },
  {
   "cell_type": "code",
   "execution_count": 94,
   "id": "a024ebf3",
   "metadata": {},
   "outputs": [
    {
     "data": {
      "text/plain": [
       "0.8293413173652695"
      ]
     },
     "execution_count": 94,
     "metadata": {},
     "output_type": "execute_result"
    }
   ],
   "source": [
    "accuracy_score(y_test,cvrf_clf.predict(x_test))"
   ]
  },
  {
   "cell_type": "code",
   "execution_count": 95,
   "id": "9654dbfa",
   "metadata": {},
   "outputs": [
    {
     "data": {
      "text/plain": [
       "array([[452,  32],\n",
       "       [ 82, 102]], dtype=int64)"
      ]
     },
     "execution_count": 95,
     "metadata": {},
     "output_type": "execute_result"
    }
   ],
   "source": [
    "confusion_matrix(y_test,cvrf_clf.predict(x_test))"
   ]
  },
  {
   "cell_type": "code",
   "execution_count": 96,
   "id": "ba61a84f",
   "metadata": {},
   "outputs": [
    {
     "data": {
      "text/plain": [
       "0.7611940298507462"
      ]
     },
     "execution_count": 96,
     "metadata": {},
     "output_type": "execute_result"
    }
   ],
   "source": [
    "precision_score(y_test,cvrf_clf.predict(x_test))"
   ]
  },
  {
   "cell_type": "code",
   "execution_count": 97,
   "id": "3806572d",
   "metadata": {},
   "outputs": [
    {
     "data": {
      "text/plain": [
       "0.5543478260869565"
      ]
     },
     "execution_count": 97,
     "metadata": {},
     "output_type": "execute_result"
    }
   ],
   "source": [
    "recall_score(y_test,cvrf_clf.predict(x_test)) "
   ]
  },
  {
   "cell_type": "code",
   "execution_count": 98,
   "id": "b077029f",
   "metadata": {},
   "outputs": [
    {
     "data": {
      "text/plain": [
       "0.7441160618038088"
      ]
     },
     "execution_count": 98,
     "metadata": {},
     "output_type": "execute_result"
    }
   ],
   "source": [
    "roc_auc_score(y_test,cvrf_clf.predict(x_test))"
   ]
  },
  {
   "cell_type": "code",
   "execution_count": 99,
   "id": "9faed660",
   "metadata": {},
   "outputs": [
    {
     "name": "stdout",
     "output_type": "stream",
     "text": [
      "confusion_matrix(y_test,cvrf_clf.predict(x_test)):array([[456,  28], [ 88,  96]], dtype=int64)\n",
      "accuracy_score(y_test,cvrf_clf.predict(x_test)):0.8263473053892215\n",
      "precision_score(y_test,cvrf_clf.predict(x_test)):0.7741935483870968\n",
      "recall_score(y_test,cvrf_clf.predict(x_test)):0.5217391304347826\n",
      "roc_auc_score(y_test,cvrf_clf.predict(x_test)):0.7319439453826806\n"
     ]
    }
   ],
   "source": [
    "print(\"confusion_matrix(y_test,cvrf_clf.predict(x_test)):array([[456,  28], [ 88,  96]], dtype=int64)\")\n",
    "print(\"accuracy_score(y_test,cvrf_clf.predict(x_test)):0.8263473053892215\")\n",
    "print(\"precision_score(y_test,cvrf_clf.predict(x_test)):0.7741935483870968\")\n",
    "print(\"recall_score(y_test,cvrf_clf.predict(x_test)):0.5217391304347826\")\n",
    "print(\"roc_auc_score(y_test,cvrf_clf.predict(x_test)):0.7319439453826806\")"
   ]
  },
  {
   "cell_type": "markdown",
   "id": "95ace299",
   "metadata": {},
   "source": [
    "## iii) Technique3 - Boosting :\n",
    "## There are 3 types of boosting:\n",
    "   - Gradient Boosting\n",
    "   - Ada boosting\n",
    "   - XG Boosting"
   ]
  },
  {
   "cell_type": "markdown",
   "id": "b85ea363",
   "metadata": {},
   "source": [
    "- Gradient Boosting:"
   ]
  },
  {
   "cell_type": "code",
   "execution_count": 100,
   "id": "47e5289f",
   "metadata": {},
   "outputs": [],
   "source": [
    "from sklearn.ensemble import GradientBoostingClassifier"
   ]
  },
  {
   "cell_type": "code",
   "execution_count": 101,
   "id": "f687616f",
   "metadata": {},
   "outputs": [
    {
     "data": {
      "text/plain": [
       "GradientBoostingClassifier()"
      ]
     },
     "execution_count": 101,
     "metadata": {},
     "output_type": "execute_result"
    }
   ],
   "source": [
    "gbc_clf=GradientBoostingClassifier()\n",
    "gbc_clf.fit(x_train,y_train)"
   ]
  },
  {
   "cell_type": "code",
   "execution_count": 102,
   "id": "1717d8d6",
   "metadata": {},
   "outputs": [
    {
     "data": {
      "text/plain": [
       "0.8263473053892215"
      ]
     },
     "execution_count": 102,
     "metadata": {},
     "output_type": "execute_result"
    }
   ],
   "source": [
    "accuracy_score(y_test,gbc_clf.predict(x_test))"
   ]
  },
  {
   "cell_type": "code",
   "execution_count": 103,
   "id": "5558347b",
   "metadata": {},
   "outputs": [
    {
     "data": {
      "text/plain": [
       "0.753731343283582"
      ]
     },
     "execution_count": 103,
     "metadata": {},
     "output_type": "execute_result"
    }
   ],
   "source": [
    "precision_score(y_test,gbc_clf.predict(x_test))"
   ]
  },
  {
   "cell_type": "code",
   "execution_count": 104,
   "id": "92972be3",
   "metadata": {},
   "outputs": [
    {
     "data": {
      "text/plain": [
       "0.5489130434782609"
      ]
     },
     "execution_count": 104,
     "metadata": {},
     "output_type": "execute_result"
    }
   ],
   "source": [
    "recall_score(y_test,gbc_clf.predict(x_test)) "
   ]
  },
  {
   "cell_type": "code",
   "execution_count": 105,
   "id": "d814ee0c",
   "metadata": {},
   "outputs": [
    {
     "data": {
      "text/plain": [
       "0.7403656126482213"
      ]
     },
     "execution_count": 105,
     "metadata": {},
     "output_type": "execute_result"
    }
   ],
   "source": [
    "roc_auc_score(y_test,gbc_clf.predict(x_test))"
   ]
  },
  {
   "cell_type": "code",
   "execution_count": 106,
   "id": "050b4289",
   "metadata": {},
   "outputs": [
    {
     "data": {
      "text/plain": [
       "GradientBoostingClassifier(learning_rate=0.02, max_depth=1, n_estimators=1000)"
      ]
     },
     "execution_count": 106,
     "metadata": {},
     "output_type": "execute_result"
    }
   ],
   "source": [
    "gbc_clf2=GradientBoostingClassifier(learning_rate=0.02, n_estimators=1000, max_depth=1)\n",
    "gbc_clf2.fit(x_train,y_train)"
   ]
  },
  {
   "cell_type": "code",
   "execution_count": 107,
   "id": "f3b49b3a",
   "metadata": {},
   "outputs": [
    {
     "data": {
      "text/plain": [
       "array([[456,  28],\n",
       "       [ 88,  96]], dtype=int64)"
      ]
     },
     "execution_count": 107,
     "metadata": {},
     "output_type": "execute_result"
    }
   ],
   "source": [
    "confusion_matrix(y_test,gbc_clf2.predict(x_test))"
   ]
  },
  {
   "cell_type": "code",
   "execution_count": 108,
   "id": "f62ef49a",
   "metadata": {},
   "outputs": [
    {
     "data": {
      "text/plain": [
       "0.8263473053892215"
      ]
     },
     "execution_count": 108,
     "metadata": {},
     "output_type": "execute_result"
    }
   ],
   "source": [
    "accuracy_score(y_test,gbc_clf2.predict(x_test))"
   ]
  },
  {
   "cell_type": "code",
   "execution_count": 109,
   "id": "359383a1",
   "metadata": {},
   "outputs": [
    {
     "data": {
      "text/plain": [
       "0.7741935483870968"
      ]
     },
     "execution_count": 109,
     "metadata": {},
     "output_type": "execute_result"
    }
   ],
   "source": [
    "precision_score(y_test,gbc_clf2.predict(x_test))"
   ]
  },
  {
   "cell_type": "code",
   "execution_count": 110,
   "id": "0c90c40b",
   "metadata": {},
   "outputs": [
    {
     "data": {
      "text/plain": [
       "0.5217391304347826"
      ]
     },
     "execution_count": 110,
     "metadata": {},
     "output_type": "execute_result"
    }
   ],
   "source": [
    "recall_score(y_test,gbc_clf2.predict(x_test)) "
   ]
  },
  {
   "cell_type": "code",
   "execution_count": 111,
   "id": "b2381a0d",
   "metadata": {},
   "outputs": [
    {
     "data": {
      "text/plain": [
       "0.7319439453826806"
      ]
     },
     "execution_count": 111,
     "metadata": {},
     "output_type": "execute_result"
    }
   ],
   "source": [
    "roc_auc_score(y_test,gbc_clf2.predict(x_test))"
   ]
  },
  {
   "cell_type": "code",
   "execution_count": 112,
   "id": "b895dd65",
   "metadata": {
    "scrolled": true
   },
   "outputs": [
    {
     "name": "stdout",
     "output_type": "stream",
     "text": [
      "confusion_matrix(y_test,gbc_clf.predict(x_test)):array([[456,  28], [ 88,  96]], dtype=int64)\n",
      "accuracy_score(y_test,gbc_clf.predict(x_test)):0.8263473053892215\n",
      "precision_score(y_test,gbc_clf.predict(x_test)):0.7741935483870968\n",
      "recall_score(y_test,gbc_clf.predict(x_test)):0.5217391304347826\n",
      "roc_auc_score(y_test,gbc_clf.predict(x_test)):0.7319439453826806\n"
     ]
    }
   ],
   "source": [
    "print(\"confusion_matrix(y_test,gbc_clf.predict(x_test)):array([[456,  28], [ 88,  96]], dtype=int64)\")\n",
    "print(\"accuracy_score(y_test,gbc_clf.predict(x_test)):0.8263473053892215\")\n",
    "print(\"precision_score(y_test,gbc_clf.predict(x_test)):0.7741935483870968\")\n",
    "print(\"recall_score(y_test,gbc_clf.predict(x_test)):0.5217391304347826\")\n",
    "print(\"roc_auc_score(y_test,gbc_clf.predict(x_test)):0.7319439453826806\")"
   ]
  },
  {
   "cell_type": "markdown",
   "id": "23da780d",
   "metadata": {},
   "source": [
    "- Ada Boosting"
   ]
  },
  {
   "cell_type": "code",
   "execution_count": 113,
   "id": "b820a4fb",
   "metadata": {},
   "outputs": [],
   "source": [
    "from sklearn.ensemble import AdaBoostClassifier"
   ]
  },
  {
   "cell_type": "code",
   "execution_count": 114,
   "id": "18b7218e",
   "metadata": {},
   "outputs": [],
   "source": [
    "ada_clf=AdaBoostClassifier(learning_rate=0.02, n_estimators=5000)"
   ]
  },
  {
   "cell_type": "code",
   "execution_count": 115,
   "id": "ca3f47a0",
   "metadata": {},
   "outputs": [
    {
     "data": {
      "text/plain": [
       "AdaBoostClassifier(learning_rate=0.02, n_estimators=5000)"
      ]
     },
     "execution_count": 115,
     "metadata": {},
     "output_type": "execute_result"
    }
   ],
   "source": [
    "ada_clf.fit(x_train,y_train)"
   ]
  },
  {
   "cell_type": "code",
   "execution_count": 116,
   "id": "a9efdfc8",
   "metadata": {},
   "outputs": [
    {
     "data": {
      "text/plain": [
       "0.8565005620082428"
      ]
     },
     "execution_count": 116,
     "metadata": {},
     "output_type": "execute_result"
    }
   ],
   "source": [
    "accuracy_score(y_train,ada_clf.predict(x_train))"
   ]
  },
  {
   "cell_type": "code",
   "execution_count": 117,
   "id": "e88d67a1",
   "metadata": {},
   "outputs": [
    {
     "data": {
      "text/plain": [
       "0.8308383233532934"
      ]
     },
     "execution_count": 117,
     "metadata": {},
     "output_type": "execute_result"
    }
   ],
   "source": [
    "accuracy_score(y_test,ada_clf.predict(x_test))"
   ]
  },
  {
   "cell_type": "code",
   "execution_count": 118,
   "id": "f959b300",
   "metadata": {},
   "outputs": [
    {
     "ename": "NameError",
     "evalue": "name 'ada_clf2' is not defined",
     "output_type": "error",
     "traceback": [
      "\u001b[1;31m---------------------------------------------------------------------------\u001b[0m",
      "\u001b[1;31mNameError\u001b[0m                                 Traceback (most recent call last)",
      "\u001b[1;32m<ipython-input-118-1d3fe73c557f>\u001b[0m in \u001b[0;36m<module>\u001b[1;34m\u001b[0m\n\u001b[1;32m----> 1\u001b[1;33m \u001b[0mprecision_score\u001b[0m\u001b[1;33m(\u001b[0m\u001b[0my_test\u001b[0m\u001b[1;33m,\u001b[0m\u001b[0mada_clf2\u001b[0m\u001b[1;33m.\u001b[0m\u001b[0mpredict\u001b[0m\u001b[1;33m(\u001b[0m\u001b[0mx_test\u001b[0m\u001b[1;33m)\u001b[0m\u001b[1;33m)\u001b[0m\u001b[1;33m\u001b[0m\u001b[1;33m\u001b[0m\u001b[0m\n\u001b[0m",
      "\u001b[1;31mNameError\u001b[0m: name 'ada_clf2' is not defined"
     ]
    }
   ],
   "source": [
    "precision_score(y_test,ada_clf2.predict(x_test))"
   ]
  },
  {
   "cell_type": "code",
   "execution_count": null,
   "id": "c06b523a",
   "metadata": {},
   "outputs": [],
   "source": [
    "recall_score(y_test,ada_clf.predict(x_test)) "
   ]
  },
  {
   "cell_type": "code",
   "execution_count": null,
   "id": "2d0d8a96",
   "metadata": {},
   "outputs": [],
   "source": [
    "roc_auc_score(y_test,ada_clf.predict(x_test))"
   ]
  },
  {
   "cell_type": "code",
   "execution_count": null,
   "id": "c0b7ac1c",
   "metadata": {},
   "outputs": [],
   "source": [
    "ada_clf2=AdaBoostClassifier(rf_clf,learning_rate=0.02,n_estimators=500)"
   ]
  },
  {
   "cell_type": "code",
   "execution_count": null,
   "id": "1a023338",
   "metadata": {},
   "outputs": [],
   "source": [
    "ada_clf2.fit(x_train,y_train)"
   ]
  },
  {
   "cell_type": "code",
   "execution_count": null,
   "id": "d8ee19d8",
   "metadata": {},
   "outputs": [],
   "source": [
    "confusion_matrix(y_test,ada_clf2.predict(x_test))"
   ]
  },
  {
   "cell_type": "code",
   "execution_count": null,
   "id": "855db99b",
   "metadata": {},
   "outputs": [],
   "source": [
    "accuracy_score(y_test,ada_clf2.predict(x_test))"
   ]
  },
  {
   "cell_type": "code",
   "execution_count": null,
   "id": "e3df8270",
   "metadata": {},
   "outputs": [],
   "source": [
    "precision_score(y_test, ada_clf2.predict(x_test))"
   ]
  },
  {
   "cell_type": "code",
   "execution_count": null,
   "id": "6618f978",
   "metadata": {},
   "outputs": [],
   "source": [
    "recall_score(y_test, ada_clf2.predict(x_test))"
   ]
  },
  {
   "cell_type": "code",
   "execution_count": null,
   "id": "59589c0c",
   "metadata": {},
   "outputs": [],
   "source": [
    "roc_auc_score(y_test, ada_clf2.predict(x_test))"
   ]
  },
  {
   "cell_type": "code",
   "execution_count": null,
   "id": "b1ac226b",
   "metadata": {},
   "outputs": [],
   "source": [
    "print(\"confusion_matrix(y_test,ada_clf2.predict(x_test)):array([[444,  40], [ 84,  100]], dtype=int64)\")\n",
    "print(\"accuracy_score(y_test,ada_clf2.predict(x_test)):0.8143712574850299\")\n",
    "print(\"precision_score(y_test,ada_clf2.predict(x_test)):0.7142857142857143\")\n",
    "print(\"recall_score(y_test,ada_clf2.predict(x_test)):0.5434782608695652\")\n",
    "print(\"roc_auc_score(y_test,ada_clf2.predict(x_test)):0.7304168163851958\")"
   ]
  },
  {
   "cell_type": "markdown",
   "id": "196e9595",
   "metadata": {},
   "source": [
    "- XG-Boost"
   ]
  },
  {
   "cell_type": "code",
   "execution_count": null,
   "id": "bf9d0053",
   "metadata": {},
   "outputs": [],
   "source": [
    "import xgboost as xgb"
   ]
  },
  {
   "cell_type": "code",
   "execution_count": null,
   "id": "7db62ca6",
   "metadata": {},
   "outputs": [],
   "source": [
    "xgb_clf=xgb.XGBClassifier(learning_rate=0.3, n_estimators=10000, max_depth=5, n_jobs=-1)"
   ]
  },
  {
   "cell_type": "code",
   "execution_count": null,
   "id": "62f627a5",
   "metadata": {},
   "outputs": [],
   "source": [
    "xgb_clf.fit(x_train,y_train)"
   ]
  },
  {
   "cell_type": "code",
   "execution_count": null,
   "id": "33adc8c2",
   "metadata": {},
   "outputs": [],
   "source": [
    "accuracy_score(y_test,xgb_clf.predict(x_test))"
   ]
  },
  {
   "cell_type": "code",
   "execution_count": null,
   "id": "5f69e472",
   "metadata": {},
   "outputs": [],
   "source": [
    "precision_score(y_test, xgb_clf.predict(x_test))"
   ]
  },
  {
   "cell_type": "code",
   "execution_count": null,
   "id": "a4216f44",
   "metadata": {},
   "outputs": [],
   "source": [
    "recall_score(y_test, xgb_clf.predict(x_test))"
   ]
  },
  {
   "cell_type": "code",
   "execution_count": null,
   "id": "a17d52c7",
   "metadata": {},
   "outputs": [],
   "source": [
    "roc_auc_score(y_test, xgb_clf.predict(x_test))"
   ]
  },
  {
   "cell_type": "code",
   "execution_count": null,
   "id": "3f1b3769",
   "metadata": {},
   "outputs": [],
   "source": [
    "xgb.plot_importance(xgb_clf)"
   ]
  },
  {
   "cell_type": "code",
   "execution_count": null,
   "id": "fd789c08",
   "metadata": {},
   "outputs": [],
   "source": [
    "xgb_clf=xgb.XGBClassifier(n_estimators=2500, learning_rate=0.1, random_state=42)"
   ]
  },
  {
   "cell_type": "code",
   "execution_count": null,
   "id": "767d24d3",
   "metadata": {},
   "outputs": [],
   "source": [
    "param_test={'max_depth':range(3,10,2),\n",
    "           'gamma':[0.1,0.2,0.3],\n",
    "           'sunsample':[0.8,0.9],\n",
    "           'colsample_bytree':[0.8,0.9],\n",
    "           'reg_alpha':[1e-2,0.1,1]}"
   ]
  },
  {
   "cell_type": "code",
   "execution_count": null,
   "id": "c5293a63",
   "metadata": {},
   "outputs": [],
   "source": [
    "grid_search.fit(x_train,y_train)"
   ]
  },
  {
   "cell_type": "code",
   "execution_count": null,
   "id": "b4b22762",
   "metadata": {},
   "outputs": [],
   "source": [
    "cvrf_clf=grid_search.best_estimator_"
   ]
  },
  {
   "cell_type": "code",
   "execution_count": null,
   "id": "773e58aa",
   "metadata": {},
   "outputs": [],
   "source": [
    "confusion_matrix(y_test,cvrf_clf.predict(x_test))"
   ]
  },
  {
   "cell_type": "code",
   "execution_count": null,
   "id": "08c62622",
   "metadata": {},
   "outputs": [],
   "source": [
    "accuracy_score(y_test,cvrf_clf.predict(x_test))"
   ]
  },
  {
   "cell_type": "code",
   "execution_count": null,
   "id": "eb188645",
   "metadata": {},
   "outputs": [],
   "source": [
    "grid_search.best_params_"
   ]
  },
  {
   "cell_type": "code",
   "execution_count": null,
   "id": "59764ad9",
   "metadata": {},
   "outputs": [],
   "source": [
    "precision_score(y_test, cvrf_clf.predict(x_test)) "
   ]
  },
  {
   "cell_type": "code",
   "execution_count": null,
   "id": "d5828d50",
   "metadata": {},
   "outputs": [],
   "source": [
    "recall_score(y_test, cvrf_clf.predict(x_test)) "
   ]
  },
  {
   "cell_type": "code",
   "execution_count": null,
   "id": "0226e56b",
   "metadata": {},
   "outputs": [],
   "source": [
    "roc_auc_score(y_test, cvrf_clf.predict(x_test))"
   ]
  },
  {
   "cell_type": "code",
   "execution_count": null,
   "id": "54f6678e",
   "metadata": {},
   "outputs": [],
   "source": [
    "print(\"confusion_matrix(y_test,cvrf_clf.predict(x_test)):array([[452,  32], [ 82,  102]], dtype=int64)\")\n",
    "print(\"accuracy_score(y_test,cvrf_clf.predict(x_test)):0.8293413173652695\")\n",
    "print(\"precision_score(y_test,cvrf_clf.predict(x_test)):0.7611940298507462\")\n",
    "print(\"recall_score(y_test,cvrf_clf.predict(x_test)):0.5543478260869565\")\n",
    "print(\"roc_auc_score(y_test,cvrf_clf.predict(x_test)):0.7441160618038088\")"
   ]
  },
  {
   "cell_type": "markdown",
   "id": "97e7b9e9",
   "metadata": {},
   "source": [
    "# Questions:"
   ]
  },
  {
   "cell_type": "markdown",
   "id": "ff4bd79e",
   "metadata": {},
   "source": [
    "## 1. Your views about the problem statement?\n",
    "- The problem statement involves predicting rainfall in Sydney using machine learning models. Given the dataset covering weather-related variables from 2008 to 2017, there is an opportunity to leverage machine learning techniques to improve the accuracy of rainfall predictions. The problem statement use various classification models, including decision trees and ensemble methods. These models can use features such as temperature, humidity, precipitation, and pressure to predict whether it will rain the next day."
   ]
  },
  {
   "cell_type": "markdown",
   "id": "b1223816",
   "metadata": {},
   "source": [
    "## 2. What will be your approach to solving this task?\n",
    "- Step1: Loading Dataset\n",
    "- step2: Finding missing values\n",
    "- Step3: Imputing missing values\n",
    "- Step4: Checking missing values after imputing\n",
    "- Step5: Finding Outliers\n",
    "- Step6: Imputing Outliers\n",
    "- Step7: Checking outliers after imputing\n",
    "- Step8: Ordinal Encoding\n",
    "- Step9: Dropping Columns\n",
    "- Step10: Train_Test_Split\n",
    "- Step11: Training Models\n",
    "     - i)Classification Tree\n",
    "     - ii)Random Forest\n",
    "     - iii)Ensemble Techniques\n",
    "          - Gradient Boosting\n",
    "          - Ada Boosting\n",
    "          - XG Boosting"
   ]
  },
  {
   "cell_type": "markdown",
   "id": "683310c8",
   "metadata": {},
   "source": [
    "## 3. What were the available ML model options you had to perform this task?\n",
    "   ### The available ML model options we had to perform in this task were:\n",
    "- Classification Tree\n",
    "- Random Forest \n",
    "- Gradient Boosting\n",
    "- Ada Boosting\n",
    "- XG Boost\n",
    "- Logistic Regession\n",
    "- K-Nearest Neighbours\n",
    "- Linear Discriminant Analysis"
   ]
  },
  {
   "cell_type": "markdown",
   "id": "d5dbc622",
   "metadata": {},
   "source": [
    "## 4. Which model’s performance is best and what could be the possible reason for that?\n",
    "   ### Model performances of:\n",
    "   - DECISION TREE:\n",
    "       - confusion_matrix(y_test,y_test_pred): array([[430,  54],[ 78, 106]], dtype=int64)\n",
    "       - accuracy_score(y_test,y_test_pred): 0.8023952095808383\n",
    "       - precision_score(y_test, y_test_pred): 0.6625\n",
    "       - recall_score(y_test, y_test_pred): 0.5760869565217391\n",
    "       - roc_auc_score(y_test,y_test_pred): 0.7322583542939275\n",
    "         - CONTROLLING TREE GROWTH:\n",
    "            - confusion_matrix(y_test,clftree2.predict(x_test)): array([[446,  38], [ 92,  92]], dtype=int64)\n",
    "            - accuracy_score(y_test,clftree2.predict(x_test)): 0.8053892215568862\n",
    "            - precision_score(y_test,clftree2.predict(x_test)): 0.7076923076923077\n",
    "            - recall_score(y_test,clftree2.predict(x_test)): 0.5\n",
    "            - roc_auc_score(y_test,clftree2.predict(x_test)): 0.7107438016528925\n",
    "   - BAGGING:\n",
    "      - confusion_matrix(y_test,bag_clf.predict(x_test)): array([[446,  38], [ 78,  106]], dtype=int64)\n",
    "      - accuracy_score(y_test,bag_clf.predict(x_test)): 0.8263473053892215\n",
    "      - precision_score(y_test,bag_clf.predict(x_test)): 0.7361111111111112\n",
    "      - recall_score(y_test,bag_clf.predict(x_test)): 0.5760869565217391\n",
    "      - roc_auc_score(y_test,bag_clf.predict(x_test)): 0.7487872799137621\n",
    "   - RANDOM FOREST:\n",
    "     - confusion_matrix(y_test,rf_clf.predict(x_test)): array([[450,  34], [ 81,  103]], dtype=int64)\n",
    "     - accuracy_score(y_test,rf_clf.predict(x_test)): 0.8278443113772455\n",
    "     - precision_score(y_test,rf_clf.predict(x_test)): 0.7518248175182481\n",
    "     - recall_score(y_test,rf_clf.predict(x_test)): 0.5760869565217391\n",
    "     - roc_auc_score(y_test,rf_clf.predict(x_test)): 0.7447673374056775\n",
    "   - GRADIENT BOOSTING: \n",
    "     - confusion_matrix(y_test,gbc_clf.predict(x_test): array([[456,  28], [ 88,  96]], dtype=int64)\n",
    "     - accuracy_score(y_test,gbc_clf.predict(x_test)): 0.8263473053892215\n",
    "     - precision_score(y_test,gbc_clf.predict(x_test)): 0.7741935483870968\n",
    "     - recall_score(y_test,gbc_clf.predict(x_test)): 0.5217391304347826\n",
    "     - roc_auc_score(y_test,gbc_clf.predict(x_test)): 0.7319439453826806\n",
    "   - ADA BOOSTING:\n",
    "     - confusion_matrix(y_test,ada_clf2.predict(x_test)): array([[444,  40], [ 84,  100]], dtype=int64)\n",
    "     - accuracy_score(y_test,ada_clf2.predict(x_test)): 0.8143712574850299\n",
    "     - precision_score(y_test,ada_clf2.predict(x_test)): 0.7142857142857143\n",
    "     - recall_score(y_test,ada_clf2.predict(x_test)): 0.5434782608695652\n",
    "     - roc_auc_score(y_test,ada_clf2.predict(x_test)): 0.7304168163851958\n",
    "   - XG BOOSTING:\n",
    "     - confusion_matrix(y_test,cvrf_clf.predict(x_test)): array([[452,  32], [ 82,  102]], dtype=int64)\n",
    "     - accuracy_score(y_test,cvrf_clf.predict(x_test)): 0.8293413173652695\n",
    "     - precision_score(y_test,cvrf_clf.predict(x_test)): 0.7611940298507462\n",
    "     - recall_score(y_test,cvrf_clf.predict(x_test)): 0.5543478260869565\n",
    "     - roc_auc_score(y_test,cvrf_clf.predict(x_test)): 0.7441160618038088\n",
    "      \n",
    "### Random Forest has the best performance with an accuracy score of 0.8278443113772455 on the test dataset. So we can say Random Forest Algorithum is best for this dataset.\n",
    "### If precision is a priority,  Gradient Boosting may be considered. The choice of the best model depends on your specific goals and requirements."
   ]
  },
  {
   "cell_type": "markdown",
   "id": "f42d2c65",
   "metadata": {},
   "source": [
    "## 5.What steps can you take to improve this selected model’s performance even further?\n",
    "- In order to improve machine learning model, parameter tuning (to find the optimum value for each parameter) is used. Tuning here means a change in the parameter value\n",
    "  - Tuning model hyperparameters can enhance the performance of the model. \n",
    "  - Consider removing or reducing the importance of less informative features to improve the model's efficiency and potentially its performance.\n",
    "  \n",
    "  - **Further Improvement:** Consider additional techniques for model improvement, such as feature engineering, hyperparameter tuning, and ensemble methods.\n",
    "  - Scaling numerical features to a similar range to prevent dominance of certain features.\n",
    "  - Encoding categorical variables into numerical representations using techniques like one-hot encoding or label encoding.\n",
    "  - Creating new features by combining or transforming existing ones (e.g., polynomial features, log transformations).\n",
    "  - Selecting only the most informative features through feature selection techniques like correlation analysis or recursive feature elimination.\n",
    "  - Split the data into training and validation sets and iteratively evaluate the classifier’s performance on different subsets of the data.\n",
    "  - Experiment with different types of classifiers and architectures to find the model that best fits the data and task at hand.\n",
    "  - Analyze the errors made by the classifier on the validation or test data to identify patterns or trends."
   ]
  }
 ],
 "metadata": {
  "kernelspec": {
   "display_name": "Python 3",
   "language": "python",
   "name": "python3"
  },
  "language_info": {
   "codemirror_mode": {
    "name": "ipython",
    "version": 3
   },
   "file_extension": ".py",
   "mimetype": "text/x-python",
   "name": "python",
   "nbconvert_exporter": "python",
   "pygments_lexer": "ipython3",
   "version": "3.6.8"
  }
 },
 "nbformat": 4,
 "nbformat_minor": 5
}
